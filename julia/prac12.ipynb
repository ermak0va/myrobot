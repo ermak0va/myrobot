{
 "cells": [
  {
   "cell_type": "code",
   "execution_count": 152,
   "metadata": {},
   "outputs": [
    {
     "name": "stderr",
     "output_type": "stream",
     "text": [
      "WARNING: replacing module Vector2Ds.\n"
     ]
    },
    {
     "data": {
      "text/plain": [
       "Main.Vector2Ds"
      ]
     },
     "execution_count": 152,
     "metadata": {},
     "output_type": "execute_result"
    }
   ],
   "source": [
    "module Vector2Ds\n",
    "\n",
    "    export Vector2D, xdot, sin, cos\n",
    "    using LinearAlgebra # - чтобы стали доступными фунции dot (скалярное произведение), norm (длина вектора)\n",
    "\n",
    "    Vector2D{T<:Real} = Tuple{T,T}\n",
    "\n",
    "    Base. cos(a::Vector2D, b::Vector2D) = dot(a,b)/norm(a)/norm(b)\n",
    "    xdot(a::Vector2D, b::Vector2D) = -a[1]*b[2]+a[2]*b[1]\n",
    "                # xdot(a,b)=|a||b|sin(a,b) - косое произведение\n",
    "    Base. sin(a::Vector2D, b::Vector2D) = xdot(a,b)/norm(a)/norm(b)\n",
    "\n",
    "    \"\"\"\n",
    "        randpoints(random::Function, num::Integer)\n",
    "\n",
    "    - random - функция, возвращающая случайное значение с требуемым рампределением\n",
    "    - возвращает одномерный массив длины num случайных точек плоскости \n",
    "    \"\"\"\n",
    "    randpoints(random::Function, num::Integer) = [(random(),random()) for _ in 1:num]\n",
    "end"
   ]
  },
  {
   "cell_type": "markdown",
   "metadata": {},
   "source": [
    "Задача 1"
   ]
  },
  {
   "cell_type": "code",
   "execution_count": 153,
   "metadata": {},
   "outputs": [
    {
     "data": {
      "text/plain": [
       "8-element Vector{Tuple{Float64, Float64}}:\n",
       " (1.0, 0.0)\n",
       " (0.0, 2.0)\n",
       " (3.0, 7.0)\n",
       " (5.0, 2.0)\n",
       " (4.0, -3.0)\n",
       " (2.0, 1.0)\n",
       " (3.0, 4.0)\n",
       " (4.5, 1.0)"
      ]
     },
     "execution_count": 153,
     "metadata": {},
     "output_type": "execute_result"
    }
   ],
   "source": [
    "points=[s for s in zip([1.0,0.0,3.0,5.0,4.0,2.0,3.0,4.5],[0.0,2.0,7.0,2.0,-3.0,1.0,4.0,1.0])]"
   ]
  },
  {
   "cell_type": "code",
   "execution_count": 154,
   "metadata": {},
   "outputs": [
    {
     "data": {
      "image/svg+xml": [
       "<?xml version=\"1.0\" encoding=\"utf-8\"?>\n",
       "<svg xmlns=\"http://www.w3.org/2000/svg\" xmlns:xlink=\"http://www.w3.org/1999/xlink\" width=\"600\" height=\"400\" viewBox=\"0 0 2400 1600\">\n",
       "<defs>\n",
       "  <clipPath id=\"clip970\">\n",
       "    <rect x=\"0\" y=\"0\" width=\"2400\" height=\"1600\"/>\n",
       "  </clipPath>\n",
       "</defs>\n",
       "<path clip-path=\"url(#clip970)\" d=\"\n",
       "M0 1600 L2400 1600 L2400 0 L0 0  Z\n",
       "  \" fill=\"#ffffff\" fill-rule=\"evenodd\" fill-opacity=\"1\"/>\n",
       "<defs>\n",
       "  <clipPath id=\"clip971\">\n",
       "    <rect x=\"480\" y=\"0\" width=\"1681\" height=\"1600\"/>\n",
       "  </clipPath>\n",
       "</defs>\n",
       "<path clip-path=\"url(#clip970)\" d=\"\n",
       "M147.108 1486.45 L2352.76 1486.45 L2352.76 47.2441 L147.108 47.2441  Z\n",
       "  \" fill=\"#ffffff\" fill-rule=\"evenodd\" fill-opacity=\"1\"/>\n",
       "<defs>\n",
       "  <clipPath id=\"clip972\">\n",
       "    <rect x=\"147\" y=\"47\" width=\"2207\" height=\"1440\"/>\n",
       "  </clipPath>\n",
       "</defs>\n",
       "<polyline clip-path=\"url(#clip972)\" style=\"stroke:#000000; stroke-width:2; stroke-opacity:0.1; fill:none\" points=\"\n",
       "  209.532,1486.45 209.532,47.2441 \n",
       "  \"/>\n",
       "<polyline clip-path=\"url(#clip972)\" style=\"stroke:#000000; stroke-width:2; stroke-opacity:0.1; fill:none\" points=\"\n",
       "  625.692,1486.45 625.692,47.2441 \n",
       "  \"/>\n",
       "<polyline clip-path=\"url(#clip972)\" style=\"stroke:#000000; stroke-width:2; stroke-opacity:0.1; fill:none\" points=\"\n",
       "  1041.85,1486.45 1041.85,47.2441 \n",
       "  \"/>\n",
       "<polyline clip-path=\"url(#clip972)\" style=\"stroke:#000000; stroke-width:2; stroke-opacity:0.1; fill:none\" points=\"\n",
       "  1458.01,1486.45 1458.01,47.2441 \n",
       "  \"/>\n",
       "<polyline clip-path=\"url(#clip972)\" style=\"stroke:#000000; stroke-width:2; stroke-opacity:0.1; fill:none\" points=\"\n",
       "  1874.17,1486.45 1874.17,47.2441 \n",
       "  \"/>\n",
       "<polyline clip-path=\"url(#clip972)\" style=\"stroke:#000000; stroke-width:2; stroke-opacity:0.1; fill:none\" points=\"\n",
       "  2290.33,1486.45 2290.33,47.2441 \n",
       "  \"/>\n",
       "<polyline clip-path=\"url(#clip970)\" style=\"stroke:#000000; stroke-width:4; stroke-opacity:1; fill:none\" points=\"\n",
       "  147.108,1486.45 2352.76,1486.45 \n",
       "  \"/>\n",
       "<polyline clip-path=\"url(#clip970)\" style=\"stroke:#000000; stroke-width:4; stroke-opacity:1; fill:none\" points=\"\n",
       "  209.532,1486.45 209.532,1469.18 \n",
       "  \"/>\n",
       "<polyline clip-path=\"url(#clip970)\" style=\"stroke:#000000; stroke-width:4; stroke-opacity:1; fill:none\" points=\"\n",
       "  625.692,1486.45 625.692,1469.18 \n",
       "  \"/>\n",
       "<polyline clip-path=\"url(#clip970)\" style=\"stroke:#000000; stroke-width:4; stroke-opacity:1; fill:none\" points=\"\n",
       "  1041.85,1486.45 1041.85,1469.18 \n",
       "  \"/>\n",
       "<polyline clip-path=\"url(#clip970)\" style=\"stroke:#000000; stroke-width:4; stroke-opacity:1; fill:none\" points=\"\n",
       "  1458.01,1486.45 1458.01,1469.18 \n",
       "  \"/>\n",
       "<polyline clip-path=\"url(#clip970)\" style=\"stroke:#000000; stroke-width:4; stroke-opacity:1; fill:none\" points=\"\n",
       "  1874.17,1486.45 1874.17,1469.18 \n",
       "  \"/>\n",
       "<polyline clip-path=\"url(#clip970)\" style=\"stroke:#000000; stroke-width:4; stroke-opacity:1; fill:none\" points=\"\n",
       "  2290.33,1486.45 2290.33,1469.18 \n",
       "  \"/>\n",
       "<path clip-path=\"url(#clip970)\" d=\"M 0 0 M209.532 1515.64 Q205.92 1515.64 204.092 1519.2 Q202.286 1522.75 202.286 1529.87 Q202.286 1536.98 204.092 1540.55 Q205.92 1544.09 209.532 1544.09 Q213.166 1544.09 214.971 1540.55 Q216.8 1536.98 216.8 1529.87 Q216.8 1522.75 214.971 1519.2 Q213.166 1515.64 209.532 1515.64 M209.532 1511.93 Q215.342 1511.93 218.397 1516.54 Q221.476 1521.12 221.476 1529.87 Q221.476 1538.6 218.397 1543.21 Q215.342 1547.79 209.532 1547.79 Q203.721 1547.79 200.643 1543.21 Q197.587 1538.6 197.587 1529.87 Q197.587 1521.12 200.643 1516.54 Q203.721 1511.93 209.532 1511.93 Z\" fill=\"#000000\" fill-rule=\"evenodd\" fill-opacity=\"1\" /><path clip-path=\"url(#clip970)\" d=\"M 0 0 M616.074 1543.18 L623.712 1543.18 L623.712 1516.82 L615.402 1518.49 L615.402 1514.23 L623.666 1512.56 L628.342 1512.56 L628.342 1543.18 L635.981 1543.18 L635.981 1547.12 L616.074 1547.12 L616.074 1543.18 Z\" fill=\"#000000\" fill-rule=\"evenodd\" fill-opacity=\"1\" /><path clip-path=\"url(#clip970)\" d=\"M 0 0 M1036.5 1543.18 L1052.82 1543.18 L1052.82 1547.12 L1030.88 1547.12 L1030.88 1543.18 Q1033.54 1540.43 1038.12 1535.8 Q1042.73 1531.15 1043.91 1529.81 Q1046.16 1527.28 1047.04 1525.55 Q1047.94 1523.79 1047.94 1522.1 Q1047.94 1519.34 1046 1517.61 Q1044.07 1515.87 1040.97 1515.87 Q1038.77 1515.87 1036.32 1516.63 Q1033.89 1517.4 1031.11 1518.95 L1031.11 1514.23 Q1033.94 1513.09 1036.39 1512.51 Q1038.84 1511.93 1040.88 1511.93 Q1046.25 1511.93 1049.44 1514.62 Q1052.64 1517.31 1052.64 1521.8 Q1052.64 1523.93 1051.83 1525.85 Q1051.04 1527.74 1048.93 1530.34 Q1048.36 1531.01 1045.25 1534.23 Q1042.15 1537.42 1036.5 1543.18 Z\" fill=\"#000000\" fill-rule=\"evenodd\" fill-opacity=\"1\" /><path clip-path=\"url(#clip970)\" d=\"M 0 0 M1462.26 1528.49 Q1465.62 1529.2 1467.49 1531.47 Q1469.39 1533.74 1469.39 1537.07 Q1469.39 1542.19 1465.87 1544.99 Q1462.35 1547.79 1455.87 1547.79 Q1453.69 1547.79 1451.38 1547.35 Q1449.09 1546.93 1446.63 1546.08 L1446.63 1541.56 Q1448.58 1542.7 1450.89 1543.28 Q1453.21 1543.86 1455.73 1543.86 Q1460.13 1543.86 1462.42 1542.12 Q1464.74 1540.38 1464.74 1537.07 Q1464.74 1534.02 1462.58 1532.31 Q1460.45 1530.57 1456.63 1530.57 L1452.61 1530.57 L1452.61 1526.73 L1456.82 1526.73 Q1460.27 1526.73 1462.1 1525.36 Q1463.93 1523.97 1463.93 1521.38 Q1463.93 1518.72 1462.03 1517.31 Q1460.15 1515.87 1456.63 1515.87 Q1454.71 1515.87 1452.51 1516.29 Q1450.32 1516.7 1447.68 1517.58 L1447.68 1513.42 Q1450.34 1512.68 1452.65 1512.31 Q1454.99 1511.93 1457.05 1511.93 Q1462.38 1511.93 1465.48 1514.37 Q1468.58 1516.77 1468.58 1520.89 Q1468.58 1523.76 1466.94 1525.75 Q1465.29 1527.72 1462.26 1528.49 Z\" fill=\"#000000\" fill-rule=\"evenodd\" fill-opacity=\"1\" /><path clip-path=\"url(#clip970)\" d=\"M 0 0 M1877.18 1516.63 L1865.38 1535.08 L1877.18 1535.08 L1877.18 1516.63 M1875.95 1512.56 L1881.83 1512.56 L1881.83 1535.08 L1886.76 1535.08 L1886.76 1538.97 L1881.83 1538.97 L1881.83 1547.12 L1877.18 1547.12 L1877.18 1538.97 L1861.58 1538.97 L1861.58 1534.46 L1875.95 1512.56 Z\" fill=\"#000000\" fill-rule=\"evenodd\" fill-opacity=\"1\" /><path clip-path=\"url(#clip970)\" d=\"M 0 0 M2280.61 1512.56 L2298.97 1512.56 L2298.97 1516.5 L2284.89 1516.5 L2284.89 1524.97 Q2285.91 1524.62 2286.93 1524.46 Q2287.95 1524.27 2288.97 1524.27 Q2294.75 1524.27 2298.13 1527.44 Q2301.51 1530.62 2301.51 1536.03 Q2301.51 1541.61 2298.04 1544.71 Q2294.57 1547.79 2288.25 1547.79 Q2286.07 1547.79 2283.8 1547.42 Q2281.56 1547.05 2279.15 1546.31 L2279.15 1541.61 Q2281.23 1542.74 2283.46 1543.3 Q2285.68 1543.86 2288.16 1543.86 Q2292.16 1543.86 2294.5 1541.75 Q2296.84 1539.64 2296.84 1536.03 Q2296.84 1532.42 2294.5 1530.31 Q2292.16 1528.21 2288.16 1528.21 Q2286.28 1528.21 2284.41 1528.62 Q2282.55 1529.04 2280.61 1529.92 L2280.61 1512.56 Z\" fill=\"#000000\" fill-rule=\"evenodd\" fill-opacity=\"1\" /><polyline clip-path=\"url(#clip972)\" style=\"stroke:#000000; stroke-width:2; stroke-opacity:0.1; fill:none\" points=\"\n",
       "  147.108,1309.94 2352.76,1309.94 \n",
       "  \"/>\n",
       "<polyline clip-path=\"url(#clip972)\" style=\"stroke:#000000; stroke-width:2; stroke-opacity:0.1; fill:none\" points=\"\n",
       "  147.108,1038.39 2352.76,1038.39 \n",
       "  \"/>\n",
       "<polyline clip-path=\"url(#clip972)\" style=\"stroke:#000000; stroke-width:2; stroke-opacity:0.1; fill:none\" points=\"\n",
       "  147.108,766.846 2352.76,766.846 \n",
       "  \"/>\n",
       "<polyline clip-path=\"url(#clip972)\" style=\"stroke:#000000; stroke-width:2; stroke-opacity:0.1; fill:none\" points=\"\n",
       "  147.108,495.298 2352.76,495.298 \n",
       "  \"/>\n",
       "<polyline clip-path=\"url(#clip972)\" style=\"stroke:#000000; stroke-width:2; stroke-opacity:0.1; fill:none\" points=\"\n",
       "  147.108,223.75 2352.76,223.75 \n",
       "  \"/>\n",
       "<polyline clip-path=\"url(#clip970)\" style=\"stroke:#000000; stroke-width:4; stroke-opacity:1; fill:none\" points=\"\n",
       "  147.108,1486.45 147.108,47.2441 \n",
       "  \"/>\n",
       "<polyline clip-path=\"url(#clip970)\" style=\"stroke:#000000; stroke-width:4; stroke-opacity:1; fill:none\" points=\"\n",
       "  147.108,1309.94 173.575,1309.94 \n",
       "  \"/>\n",
       "<polyline clip-path=\"url(#clip970)\" style=\"stroke:#000000; stroke-width:4; stroke-opacity:1; fill:none\" points=\"\n",
       "  147.108,1038.39 173.575,1038.39 \n",
       "  \"/>\n",
       "<polyline clip-path=\"url(#clip970)\" style=\"stroke:#000000; stroke-width:4; stroke-opacity:1; fill:none\" points=\"\n",
       "  147.108,766.846 173.575,766.846 \n",
       "  \"/>\n",
       "<polyline clip-path=\"url(#clip970)\" style=\"stroke:#000000; stroke-width:4; stroke-opacity:1; fill:none\" points=\"\n",
       "  147.108,495.298 173.575,495.298 \n",
       "  \"/>\n",
       "<polyline clip-path=\"url(#clip970)\" style=\"stroke:#000000; stroke-width:4; stroke-opacity:1; fill:none\" points=\"\n",
       "  147.108,223.75 173.575,223.75 \n",
       "  \"/>\n",
       "<path clip-path=\"url(#clip970)\" d=\"M 0 0 M50.9921 1310.39 L80.6679 1310.39 L80.6679 1314.33 L50.9921 1314.33 L50.9921 1310.39 Z\" fill=\"#000000\" fill-rule=\"evenodd\" fill-opacity=\"1\" /><path clip-path=\"url(#clip970)\" d=\"M 0 0 M94.7882 1323.29 L111.108 1323.29 L111.108 1327.22 L89.1632 1327.22 L89.1632 1323.29 Q91.8252 1320.53 96.4085 1315.9 Q101.015 1311.25 102.196 1309.91 Q104.441 1307.38 105.321 1305.65 Q106.223 1303.89 106.223 1302.2 Q106.223 1299.44 104.279 1297.71 Q102.358 1295.97 99.2558 1295.97 Q97.0567 1295.97 94.603 1296.74 Q92.1725 1297.5 89.3947 1299.05 L89.3947 1294.33 Q92.2188 1293.19 94.6724 1292.62 Q97.1261 1292.04 99.1632 1292.04 Q104.534 1292.04 107.728 1294.72 Q110.922 1297.41 110.922 1301.9 Q110.922 1304.03 110.112 1305.95 Q109.325 1307.85 107.219 1310.44 Q106.64 1311.11 103.538 1314.33 Q100.436 1317.52 94.7882 1323.29 Z\" fill=\"#000000\" fill-rule=\"evenodd\" fill-opacity=\"1\" /><path clip-path=\"url(#clip970)\" d=\"M 0 0 M99.1632 1024.19 Q95.5521 1024.19 93.7234 1027.76 Q91.9178 1031.3 91.9178 1038.43 Q91.9178 1045.54 93.7234 1049.1 Q95.5521 1052.64 99.1632 1052.64 Q102.797 1052.64 104.603 1049.1 Q106.432 1045.54 106.432 1038.43 Q106.432 1031.3 104.603 1027.76 Q102.797 1024.19 99.1632 1024.19 M99.1632 1020.49 Q104.973 1020.49 108.029 1025.1 Q111.108 1029.68 111.108 1038.43 Q111.108 1047.16 108.029 1051.76 Q104.973 1056.35 99.1632 1056.35 Q93.353 1056.35 90.2743 1051.76 Q87.2188 1047.16 87.2188 1038.43 Q87.2188 1029.68 90.2743 1025.1 Q93.353 1020.49 99.1632 1020.49 Z\" fill=\"#000000\" fill-rule=\"evenodd\" fill-opacity=\"1\" /><path clip-path=\"url(#clip970)\" d=\"M 0 0 M94.7882 780.191 L111.108 780.191 L111.108 784.126 L89.1632 784.126 L89.1632 780.191 Q91.8252 777.436 96.4085 772.807 Q101.015 768.154 102.196 766.811 Q104.441 764.288 105.321 762.552 Q106.223 760.793 106.223 759.103 Q106.223 756.348 104.279 754.612 Q102.358 752.876 99.2558 752.876 Q97.0567 752.876 94.603 753.64 Q92.1725 754.404 89.3947 755.955 L89.3947 751.233 Q92.2188 750.098 94.6724 749.52 Q97.1261 748.941 99.1632 748.941 Q104.534 748.941 107.728 751.626 Q110.922 754.311 110.922 758.802 Q110.922 760.932 110.112 762.853 Q109.325 764.751 107.219 767.344 Q106.64 768.015 103.538 771.233 Q100.436 774.427 94.7882 780.191 Z\" fill=\"#000000\" fill-rule=\"evenodd\" fill-opacity=\"1\" /><path clip-path=\"url(#clip970)\" d=\"M 0 0 M101.524 482.092 L89.7188 500.541 L101.524 500.541 L101.524 482.092 M100.297 478.018 L106.177 478.018 L106.177 500.541 L111.108 500.541 L111.108 504.43 L106.177 504.43 L106.177 512.578 L101.524 512.578 L101.524 504.43 L85.9225 504.43 L85.9225 499.916 L100.297 478.018 Z\" fill=\"#000000\" fill-rule=\"evenodd\" fill-opacity=\"1\" /><path clip-path=\"url(#clip970)\" d=\"M 0 0 M99.5798 221.887 Q96.4317 221.887 94.5799 224.04 Q92.7512 226.192 92.7512 229.942 Q92.7512 233.669 94.5799 235.845 Q96.4317 237.998 99.5798 237.998 Q102.728 237.998 104.557 235.845 Q106.408 233.669 106.408 229.942 Q106.408 226.192 104.557 224.04 Q102.728 221.887 99.5798 221.887 M108.862 207.234 L108.862 211.493 Q107.103 210.66 105.297 210.22 Q103.515 209.78 101.756 209.78 Q97.1261 209.78 94.6724 212.905 Q92.2419 216.03 91.8947 222.35 Q93.2604 220.336 95.3206 219.271 Q97.3808 218.183 99.8576 218.183 Q105.066 218.183 108.075 221.354 Q111.108 224.503 111.108 229.942 Q111.108 235.266 107.959 238.484 Q104.811 241.702 99.5798 241.702 Q93.5845 241.702 90.4132 237.118 Q87.2419 232.512 87.2419 223.785 Q87.2419 215.591 91.1308 210.729 Q95.0197 205.845 101.571 205.845 Q103.33 205.845 105.112 206.192 Q106.918 206.54 108.862 207.234 Z\" fill=\"#000000\" fill-rule=\"evenodd\" fill-opacity=\"1\" /><circle clip-path=\"url(#clip972)\" cx=\"625.692\" cy=\"1038.39\" r=\"14\" fill=\"#009af9\" fill-rule=\"evenodd\" fill-opacity=\"1\" stroke=\"#000000\" stroke-opacity=\"1\" stroke-width=\"3.2\"/>\n",
       "<circle clip-path=\"url(#clip972)\" cx=\"209.532\" cy=\"766.846\" r=\"14\" fill=\"#009af9\" fill-rule=\"evenodd\" fill-opacity=\"1\" stroke=\"#000000\" stroke-opacity=\"1\" stroke-width=\"3.2\"/>\n",
       "<circle clip-path=\"url(#clip972)\" cx=\"1458.01\" cy=\"87.9763\" r=\"14\" fill=\"#009af9\" fill-rule=\"evenodd\" fill-opacity=\"1\" stroke=\"#000000\" stroke-opacity=\"1\" stroke-width=\"3.2\"/>\n",
       "<circle clip-path=\"url(#clip972)\" cx=\"2290.33\" cy=\"766.846\" r=\"14\" fill=\"#009af9\" fill-rule=\"evenodd\" fill-opacity=\"1\" stroke=\"#000000\" stroke-opacity=\"1\" stroke-width=\"3.2\"/>\n",
       "<circle clip-path=\"url(#clip972)\" cx=\"1874.17\" cy=\"1445.72\" r=\"14\" fill=\"#009af9\" fill-rule=\"evenodd\" fill-opacity=\"1\" stroke=\"#000000\" stroke-opacity=\"1\" stroke-width=\"3.2\"/>\n",
       "<circle clip-path=\"url(#clip972)\" cx=\"1041.85\" cy=\"902.62\" r=\"14\" fill=\"#009af9\" fill-rule=\"evenodd\" fill-opacity=\"1\" stroke=\"#000000\" stroke-opacity=\"1\" stroke-width=\"3.2\"/>\n",
       "<circle clip-path=\"url(#clip972)\" cx=\"1458.01\" cy=\"495.298\" r=\"14\" fill=\"#009af9\" fill-rule=\"evenodd\" fill-opacity=\"1\" stroke=\"#000000\" stroke-opacity=\"1\" stroke-width=\"3.2\"/>\n",
       "<circle clip-path=\"url(#clip972)\" cx=\"2082.25\" cy=\"902.62\" r=\"14\" fill=\"#009af9\" fill-rule=\"evenodd\" fill-opacity=\"1\" stroke=\"#000000\" stroke-opacity=\"1\" stroke-width=\"3.2\"/>\n",
       "</svg>\n"
      ]
     },
     "execution_count": 154,
     "metadata": {},
     "output_type": "execute_result"
    }
   ],
   "source": [
    "using Plots\n",
    "p=plot()\n",
    "scatter(points; legend = false) "
   ]
  },
  {
   "cell_type": "code",
   "execution_count": 155,
   "metadata": {},
   "outputs": [
    {
     "data": {
      "text/plain": [
       "min_point (generic function with 1 method)"
      ]
     },
     "execution_count": 155,
     "metadata": {},
     "output_type": "execute_result"
    }
   ],
   "source": [
    "function min_point(p,v,points)\n",
    "    min=p\n",
    "    min_ug=2pi\n",
    "   for x in points\n",
    "        if x!=p && ugol((x[1]-p[1],x[2]-p[2]),v)<min_ug\n",
    "            min_ug=ugol((x[1]-p[1],x[2]-p[2]),v)\n",
    "            min=x\n",
    "        end\n",
    "    end\n",
    "    return min\n",
    "end"
   ]
  },
  {
   "cell_type": "code",
   "execution_count": 156,
   "metadata": {},
   "outputs": [
    {
     "data": {
      "text/plain": [
       "ugol (generic function with 1 method)"
      ]
     },
     "execution_count": 156,
     "metadata": {},
     "output_type": "execute_result"
    }
   ],
   "source": [
    "function ugol(v1,v2)\n",
    "    c=cos(v1,v2)\n",
    "    s=sin(v1,v2)\n",
    "    if c==0\n",
    "        if s>0\n",
    "            return pi/2\n",
    "        else\n",
    "            return 3pi/2\n",
    "        end\n",
    "    end\n",
    "    if s==0\n",
    "        if c>0\n",
    "            return 0\n",
    "        else\n",
    "            return pi\n",
    "        end\n",
    "    end\n",
    "    if c>0 && s>0 || c<0 && s>0\n",
    "        return acos(c)\n",
    "    elseif c<0 && s<0\n",
    "        return pi-asin(s)\n",
    "    elseif c>0 && s<0\n",
    "        return 2pi+asin(s)\n",
    "    end\n",
    "    return 2pi\n",
    "end"
   ]
  },
  {
   "cell_type": "code",
   "execution_count": 157,
   "metadata": {},
   "outputs": [
    {
     "data": {
      "text/plain": [
       "jarvis (generic function with 1 method)"
      ]
     },
     "execution_count": 157,
     "metadata": {},
     "output_type": "execute_result"
    }
   ],
   "source": [
    "function jarvis(points)\n",
    "    res=[]\n",
    "    push!(res,points[1])\n",
    "    m=1\n",
    "    for i in 1:length(points)\n",
    "        if reverse(points[i])<reverse(res[1])\n",
    "            res[1]=points[i]\n",
    "        end\n",
    "    end\n",
    "    p=res[1]\n",
    "    v=(1,0)\n",
    "    min=min_point(p,v,points)\n",
    "    while min!=res[1] && length(res)<10\n",
    "        push!(res,min)\n",
    "        v=((min[1]-p[1]),(min[2]-p[2]))\n",
    "        p=min\n",
    "        min=min_point(p,v,points)\n",
    "    end\n",
    "    push!(res,res[1])\n",
    "    return res\n",
    "end"
   ]
  },
  {
   "cell_type": "code",
   "execution_count": 158,
   "metadata": {},
   "outputs": [
    {
     "data": {
      "text/plain": [
       "6-element Vector{Any}:\n",
       " (4.0, -3.0)\n",
       " (5.0, 2.0)\n",
       " (3.0, 7.0)\n",
       " (0.0, 2.0)\n",
       " (1.0, 0.0)\n",
       " (4.0, -3.0)"
      ]
     },
     "execution_count": 158,
     "metadata": {},
     "output_type": "execute_result"
    }
   ],
   "source": [
    "res=jarvis(points)"
   ]
  },
  {
   "cell_type": "code",
   "execution_count": 159,
   "metadata": {},
   "outputs": [],
   "source": [
    "x=[]\n",
    "y=[]\n",
    "for a in res\n",
    "    push!(x,a[1])\n",
    "    push!(y,a[2])\n",
    "end"
   ]
  },
  {
   "cell_type": "code",
   "execution_count": 160,
   "metadata": {},
   "outputs": [
    {
     "data": {
      "text/plain": [
       "6-element Vector{Tuple{Float64, Float64}}:\n",
       " (4.0, -3.0)\n",
       " (5.0, 2.0)\n",
       " (3.0, 7.0)\n",
       " (0.0, 2.0)\n",
       " (1.0, 0.0)\n",
       " (4.0, -3.0)"
      ]
     },
     "execution_count": 160,
     "metadata": {},
     "output_type": "execute_result"
    }
   ],
   "source": [
    "mnog=[s for s in zip(x,y)]"
   ]
  },
  {
   "cell_type": "code",
   "execution_count": 161,
   "metadata": {},
   "outputs": [
    {
     "data": {
      "image/svg+xml": [
       "<?xml version=\"1.0\" encoding=\"utf-8\"?>\n",
       "<svg xmlns=\"http://www.w3.org/2000/svg\" xmlns:xlink=\"http://www.w3.org/1999/xlink\" width=\"600\" height=\"400\" viewBox=\"0 0 2400 1600\">\n",
       "<defs>\n",
       "  <clipPath id=\"clip010\">\n",
       "    <rect x=\"0\" y=\"0\" width=\"2400\" height=\"1600\"/>\n",
       "  </clipPath>\n",
       "</defs>\n",
       "<path clip-path=\"url(#clip010)\" d=\"\n",
       "M0 1600 L2400 1600 L2400 0 L0 0  Z\n",
       "  \" fill=\"#ffffff\" fill-rule=\"evenodd\" fill-opacity=\"1\"/>\n",
       "<defs>\n",
       "  <clipPath id=\"clip011\">\n",
       "    <rect x=\"480\" y=\"0\" width=\"1681\" height=\"1600\"/>\n",
       "  </clipPath>\n",
       "</defs>\n",
       "<path clip-path=\"url(#clip010)\" d=\"\n",
       "M147.108 1486.45 L2352.76 1486.45 L2352.76 47.2441 L147.108 47.2441  Z\n",
       "  \" fill=\"#ffffff\" fill-rule=\"evenodd\" fill-opacity=\"1\"/>\n",
       "<defs>\n",
       "  <clipPath id=\"clip012\">\n",
       "    <rect x=\"147\" y=\"47\" width=\"2207\" height=\"1440\"/>\n",
       "  </clipPath>\n",
       "</defs>\n",
       "<polyline clip-path=\"url(#clip012)\" style=\"stroke:#000000; stroke-width:2; stroke-opacity:0.1; fill:none\" points=\"\n",
       "  209.532,1486.45 209.532,47.2441 \n",
       "  \"/>\n",
       "<polyline clip-path=\"url(#clip012)\" style=\"stroke:#000000; stroke-width:2; stroke-opacity:0.1; fill:none\" points=\"\n",
       "  625.692,1486.45 625.692,47.2441 \n",
       "  \"/>\n",
       "<polyline clip-path=\"url(#clip012)\" style=\"stroke:#000000; stroke-width:2; stroke-opacity:0.1; fill:none\" points=\"\n",
       "  1041.85,1486.45 1041.85,47.2441 \n",
       "  \"/>\n",
       "<polyline clip-path=\"url(#clip012)\" style=\"stroke:#000000; stroke-width:2; stroke-opacity:0.1; fill:none\" points=\"\n",
       "  1458.01,1486.45 1458.01,47.2441 \n",
       "  \"/>\n",
       "<polyline clip-path=\"url(#clip012)\" style=\"stroke:#000000; stroke-width:2; stroke-opacity:0.1; fill:none\" points=\"\n",
       "  1874.17,1486.45 1874.17,47.2441 \n",
       "  \"/>\n",
       "<polyline clip-path=\"url(#clip012)\" style=\"stroke:#000000; stroke-width:2; stroke-opacity:0.1; fill:none\" points=\"\n",
       "  2290.33,1486.45 2290.33,47.2441 \n",
       "  \"/>\n",
       "<polyline clip-path=\"url(#clip010)\" style=\"stroke:#000000; stroke-width:4; stroke-opacity:1; fill:none\" points=\"\n",
       "  147.108,1486.45 2352.76,1486.45 \n",
       "  \"/>\n",
       "<polyline clip-path=\"url(#clip010)\" style=\"stroke:#000000; stroke-width:4; stroke-opacity:1; fill:none\" points=\"\n",
       "  209.532,1486.45 209.532,1469.18 \n",
       "  \"/>\n",
       "<polyline clip-path=\"url(#clip010)\" style=\"stroke:#000000; stroke-width:4; stroke-opacity:1; fill:none\" points=\"\n",
       "  625.692,1486.45 625.692,1469.18 \n",
       "  \"/>\n",
       "<polyline clip-path=\"url(#clip010)\" style=\"stroke:#000000; stroke-width:4; stroke-opacity:1; fill:none\" points=\"\n",
       "  1041.85,1486.45 1041.85,1469.18 \n",
       "  \"/>\n",
       "<polyline clip-path=\"url(#clip010)\" style=\"stroke:#000000; stroke-width:4; stroke-opacity:1; fill:none\" points=\"\n",
       "  1458.01,1486.45 1458.01,1469.18 \n",
       "  \"/>\n",
       "<polyline clip-path=\"url(#clip010)\" style=\"stroke:#000000; stroke-width:4; stroke-opacity:1; fill:none\" points=\"\n",
       "  1874.17,1486.45 1874.17,1469.18 \n",
       "  \"/>\n",
       "<polyline clip-path=\"url(#clip010)\" style=\"stroke:#000000; stroke-width:4; stroke-opacity:1; fill:none\" points=\"\n",
       "  2290.33,1486.45 2290.33,1469.18 \n",
       "  \"/>\n",
       "<path clip-path=\"url(#clip010)\" d=\"M 0 0 M209.532 1515.64 Q205.92 1515.64 204.092 1519.2 Q202.286 1522.75 202.286 1529.87 Q202.286 1536.98 204.092 1540.55 Q205.92 1544.09 209.532 1544.09 Q213.166 1544.09 214.971 1540.55 Q216.8 1536.98 216.8 1529.87 Q216.8 1522.75 214.971 1519.2 Q213.166 1515.64 209.532 1515.64 M209.532 1511.93 Q215.342 1511.93 218.397 1516.54 Q221.476 1521.12 221.476 1529.87 Q221.476 1538.6 218.397 1543.21 Q215.342 1547.79 209.532 1547.79 Q203.721 1547.79 200.643 1543.21 Q197.587 1538.6 197.587 1529.87 Q197.587 1521.12 200.643 1516.54 Q203.721 1511.93 209.532 1511.93 Z\" fill=\"#000000\" fill-rule=\"evenodd\" fill-opacity=\"1\" /><path clip-path=\"url(#clip010)\" d=\"M 0 0 M616.074 1543.18 L623.712 1543.18 L623.712 1516.82 L615.402 1518.49 L615.402 1514.23 L623.666 1512.56 L628.342 1512.56 L628.342 1543.18 L635.981 1543.18 L635.981 1547.12 L616.074 1547.12 L616.074 1543.18 Z\" fill=\"#000000\" fill-rule=\"evenodd\" fill-opacity=\"1\" /><path clip-path=\"url(#clip010)\" d=\"M 0 0 M1036.5 1543.18 L1052.82 1543.18 L1052.82 1547.12 L1030.88 1547.12 L1030.88 1543.18 Q1033.54 1540.43 1038.12 1535.8 Q1042.73 1531.15 1043.91 1529.81 Q1046.16 1527.28 1047.04 1525.55 Q1047.94 1523.79 1047.94 1522.1 Q1047.94 1519.34 1046 1517.61 Q1044.07 1515.87 1040.97 1515.87 Q1038.77 1515.87 1036.32 1516.63 Q1033.89 1517.4 1031.11 1518.95 L1031.11 1514.23 Q1033.94 1513.09 1036.39 1512.51 Q1038.84 1511.93 1040.88 1511.93 Q1046.25 1511.93 1049.44 1514.62 Q1052.64 1517.31 1052.64 1521.8 Q1052.64 1523.93 1051.83 1525.85 Q1051.04 1527.74 1048.93 1530.34 Q1048.36 1531.01 1045.25 1534.23 Q1042.15 1537.42 1036.5 1543.18 Z\" fill=\"#000000\" fill-rule=\"evenodd\" fill-opacity=\"1\" /><path clip-path=\"url(#clip010)\" d=\"M 0 0 M1462.26 1528.49 Q1465.62 1529.2 1467.49 1531.47 Q1469.39 1533.74 1469.39 1537.07 Q1469.39 1542.19 1465.87 1544.99 Q1462.35 1547.79 1455.87 1547.79 Q1453.69 1547.79 1451.38 1547.35 Q1449.09 1546.93 1446.63 1546.08 L1446.63 1541.56 Q1448.58 1542.7 1450.89 1543.28 Q1453.21 1543.86 1455.73 1543.86 Q1460.13 1543.86 1462.42 1542.12 Q1464.74 1540.38 1464.74 1537.07 Q1464.74 1534.02 1462.58 1532.31 Q1460.45 1530.57 1456.63 1530.57 L1452.61 1530.57 L1452.61 1526.73 L1456.82 1526.73 Q1460.27 1526.73 1462.1 1525.36 Q1463.93 1523.97 1463.93 1521.38 Q1463.93 1518.72 1462.03 1517.31 Q1460.15 1515.87 1456.63 1515.87 Q1454.71 1515.87 1452.51 1516.29 Q1450.32 1516.7 1447.68 1517.58 L1447.68 1513.42 Q1450.34 1512.68 1452.65 1512.31 Q1454.99 1511.93 1457.05 1511.93 Q1462.38 1511.93 1465.48 1514.37 Q1468.58 1516.77 1468.58 1520.89 Q1468.58 1523.76 1466.94 1525.75 Q1465.29 1527.72 1462.26 1528.49 Z\" fill=\"#000000\" fill-rule=\"evenodd\" fill-opacity=\"1\" /><path clip-path=\"url(#clip010)\" d=\"M 0 0 M1877.18 1516.63 L1865.38 1535.08 L1877.18 1535.08 L1877.18 1516.63 M1875.95 1512.56 L1881.83 1512.56 L1881.83 1535.08 L1886.76 1535.08 L1886.76 1538.97 L1881.83 1538.97 L1881.83 1547.12 L1877.18 1547.12 L1877.18 1538.97 L1861.58 1538.97 L1861.58 1534.46 L1875.95 1512.56 Z\" fill=\"#000000\" fill-rule=\"evenodd\" fill-opacity=\"1\" /><path clip-path=\"url(#clip010)\" d=\"M 0 0 M2280.61 1512.56 L2298.97 1512.56 L2298.97 1516.5 L2284.89 1516.5 L2284.89 1524.97 Q2285.91 1524.62 2286.93 1524.46 Q2287.95 1524.27 2288.97 1524.27 Q2294.75 1524.27 2298.13 1527.44 Q2301.51 1530.62 2301.51 1536.03 Q2301.51 1541.61 2298.04 1544.71 Q2294.57 1547.79 2288.25 1547.79 Q2286.07 1547.79 2283.8 1547.42 Q2281.56 1547.05 2279.15 1546.31 L2279.15 1541.61 Q2281.23 1542.74 2283.46 1543.3 Q2285.68 1543.86 2288.16 1543.86 Q2292.16 1543.86 2294.5 1541.75 Q2296.84 1539.64 2296.84 1536.03 Q2296.84 1532.42 2294.5 1530.31 Q2292.16 1528.21 2288.16 1528.21 Q2286.28 1528.21 2284.41 1528.62 Q2282.55 1529.04 2280.61 1529.92 L2280.61 1512.56 Z\" fill=\"#000000\" fill-rule=\"evenodd\" fill-opacity=\"1\" /><polyline clip-path=\"url(#clip012)\" style=\"stroke:#000000; stroke-width:2; stroke-opacity:0.1; fill:none\" points=\"\n",
       "  147.108,1309.94 2352.76,1309.94 \n",
       "  \"/>\n",
       "<polyline clip-path=\"url(#clip012)\" style=\"stroke:#000000; stroke-width:2; stroke-opacity:0.1; fill:none\" points=\"\n",
       "  147.108,1038.39 2352.76,1038.39 \n",
       "  \"/>\n",
       "<polyline clip-path=\"url(#clip012)\" style=\"stroke:#000000; stroke-width:2; stroke-opacity:0.1; fill:none\" points=\"\n",
       "  147.108,766.846 2352.76,766.846 \n",
       "  \"/>\n",
       "<polyline clip-path=\"url(#clip012)\" style=\"stroke:#000000; stroke-width:2; stroke-opacity:0.1; fill:none\" points=\"\n",
       "  147.108,495.298 2352.76,495.298 \n",
       "  \"/>\n",
       "<polyline clip-path=\"url(#clip012)\" style=\"stroke:#000000; stroke-width:2; stroke-opacity:0.1; fill:none\" points=\"\n",
       "  147.108,223.75 2352.76,223.75 \n",
       "  \"/>\n",
       "<polyline clip-path=\"url(#clip010)\" style=\"stroke:#000000; stroke-width:4; stroke-opacity:1; fill:none\" points=\"\n",
       "  147.108,1486.45 147.108,47.2441 \n",
       "  \"/>\n",
       "<polyline clip-path=\"url(#clip010)\" style=\"stroke:#000000; stroke-width:4; stroke-opacity:1; fill:none\" points=\"\n",
       "  147.108,1309.94 173.575,1309.94 \n",
       "  \"/>\n",
       "<polyline clip-path=\"url(#clip010)\" style=\"stroke:#000000; stroke-width:4; stroke-opacity:1; fill:none\" points=\"\n",
       "  147.108,1038.39 173.575,1038.39 \n",
       "  \"/>\n",
       "<polyline clip-path=\"url(#clip010)\" style=\"stroke:#000000; stroke-width:4; stroke-opacity:1; fill:none\" points=\"\n",
       "  147.108,766.846 173.575,766.846 \n",
       "  \"/>\n",
       "<polyline clip-path=\"url(#clip010)\" style=\"stroke:#000000; stroke-width:4; stroke-opacity:1; fill:none\" points=\"\n",
       "  147.108,495.298 173.575,495.298 \n",
       "  \"/>\n",
       "<polyline clip-path=\"url(#clip010)\" style=\"stroke:#000000; stroke-width:4; stroke-opacity:1; fill:none\" points=\"\n",
       "  147.108,223.75 173.575,223.75 \n",
       "  \"/>\n",
       "<path clip-path=\"url(#clip010)\" d=\"M 0 0 M50.9921 1310.39 L80.6679 1310.39 L80.6679 1314.33 L50.9921 1314.33 L50.9921 1310.39 Z\" fill=\"#000000\" fill-rule=\"evenodd\" fill-opacity=\"1\" /><path clip-path=\"url(#clip010)\" d=\"M 0 0 M94.7882 1323.29 L111.108 1323.29 L111.108 1327.22 L89.1632 1327.22 L89.1632 1323.29 Q91.8252 1320.53 96.4085 1315.9 Q101.015 1311.25 102.196 1309.91 Q104.441 1307.38 105.321 1305.65 Q106.223 1303.89 106.223 1302.2 Q106.223 1299.44 104.279 1297.71 Q102.358 1295.97 99.2558 1295.97 Q97.0567 1295.97 94.603 1296.74 Q92.1725 1297.5 89.3947 1299.05 L89.3947 1294.33 Q92.2188 1293.19 94.6724 1292.62 Q97.1261 1292.04 99.1632 1292.04 Q104.534 1292.04 107.728 1294.72 Q110.922 1297.41 110.922 1301.9 Q110.922 1304.03 110.112 1305.95 Q109.325 1307.85 107.219 1310.44 Q106.64 1311.11 103.538 1314.33 Q100.436 1317.52 94.7882 1323.29 Z\" fill=\"#000000\" fill-rule=\"evenodd\" fill-opacity=\"1\" /><path clip-path=\"url(#clip010)\" d=\"M 0 0 M99.1632 1024.19 Q95.5521 1024.19 93.7234 1027.76 Q91.9178 1031.3 91.9178 1038.43 Q91.9178 1045.54 93.7234 1049.1 Q95.5521 1052.64 99.1632 1052.64 Q102.797 1052.64 104.603 1049.1 Q106.432 1045.54 106.432 1038.43 Q106.432 1031.3 104.603 1027.76 Q102.797 1024.19 99.1632 1024.19 M99.1632 1020.49 Q104.973 1020.49 108.029 1025.1 Q111.108 1029.68 111.108 1038.43 Q111.108 1047.16 108.029 1051.76 Q104.973 1056.35 99.1632 1056.35 Q93.353 1056.35 90.2743 1051.76 Q87.2188 1047.16 87.2188 1038.43 Q87.2188 1029.68 90.2743 1025.1 Q93.353 1020.49 99.1632 1020.49 Z\" fill=\"#000000\" fill-rule=\"evenodd\" fill-opacity=\"1\" /><path clip-path=\"url(#clip010)\" d=\"M 0 0 M94.7882 780.191 L111.108 780.191 L111.108 784.126 L89.1632 784.126 L89.1632 780.191 Q91.8252 777.436 96.4085 772.807 Q101.015 768.154 102.196 766.811 Q104.441 764.288 105.321 762.552 Q106.223 760.793 106.223 759.103 Q106.223 756.348 104.279 754.612 Q102.358 752.876 99.2558 752.876 Q97.0567 752.876 94.603 753.64 Q92.1725 754.404 89.3947 755.955 L89.3947 751.233 Q92.2188 750.098 94.6724 749.52 Q97.1261 748.941 99.1632 748.941 Q104.534 748.941 107.728 751.626 Q110.922 754.311 110.922 758.802 Q110.922 760.932 110.112 762.853 Q109.325 764.751 107.219 767.344 Q106.64 768.015 103.538 771.233 Q100.436 774.427 94.7882 780.191 Z\" fill=\"#000000\" fill-rule=\"evenodd\" fill-opacity=\"1\" /><path clip-path=\"url(#clip010)\" d=\"M 0 0 M101.524 482.092 L89.7188 500.541 L101.524 500.541 L101.524 482.092 M100.297 478.018 L106.177 478.018 L106.177 500.541 L111.108 500.541 L111.108 504.43 L106.177 504.43 L106.177 512.578 L101.524 512.578 L101.524 504.43 L85.9225 504.43 L85.9225 499.916 L100.297 478.018 Z\" fill=\"#000000\" fill-rule=\"evenodd\" fill-opacity=\"1\" /><path clip-path=\"url(#clip010)\" d=\"M 0 0 M99.5798 221.887 Q96.4317 221.887 94.5799 224.04 Q92.7512 226.192 92.7512 229.942 Q92.7512 233.669 94.5799 235.845 Q96.4317 237.998 99.5798 237.998 Q102.728 237.998 104.557 235.845 Q106.408 233.669 106.408 229.942 Q106.408 226.192 104.557 224.04 Q102.728 221.887 99.5798 221.887 M108.862 207.234 L108.862 211.493 Q107.103 210.66 105.297 210.22 Q103.515 209.78 101.756 209.78 Q97.1261 209.78 94.6724 212.905 Q92.2419 216.03 91.8947 222.35 Q93.2604 220.336 95.3206 219.271 Q97.3808 218.183 99.8576 218.183 Q105.066 218.183 108.075 221.354 Q111.108 224.503 111.108 229.942 Q111.108 235.266 107.959 238.484 Q104.811 241.702 99.5798 241.702 Q93.5845 241.702 90.4132 237.118 Q87.2419 232.512 87.2419 223.785 Q87.2419 215.591 91.1308 210.729 Q95.0197 205.845 101.571 205.845 Q103.33 205.845 105.112 206.192 Q106.918 206.54 108.862 207.234 Z\" fill=\"#000000\" fill-rule=\"evenodd\" fill-opacity=\"1\" /><circle clip-path=\"url(#clip012)\" cx=\"625.692\" cy=\"1038.39\" r=\"14\" fill=\"#0000ff\" fill-rule=\"evenodd\" fill-opacity=\"1\" stroke=\"#000000\" stroke-opacity=\"1\" stroke-width=\"3.2\"/>\n",
       "<circle clip-path=\"url(#clip012)\" cx=\"209.532\" cy=\"766.846\" r=\"14\" fill=\"#0000ff\" fill-rule=\"evenodd\" fill-opacity=\"1\" stroke=\"#000000\" stroke-opacity=\"1\" stroke-width=\"3.2\"/>\n",
       "<circle clip-path=\"url(#clip012)\" cx=\"1458.01\" cy=\"87.9763\" r=\"14\" fill=\"#0000ff\" fill-rule=\"evenodd\" fill-opacity=\"1\" stroke=\"#000000\" stroke-opacity=\"1\" stroke-width=\"3.2\"/>\n",
       "<circle clip-path=\"url(#clip012)\" cx=\"2290.33\" cy=\"766.846\" r=\"14\" fill=\"#0000ff\" fill-rule=\"evenodd\" fill-opacity=\"1\" stroke=\"#000000\" stroke-opacity=\"1\" stroke-width=\"3.2\"/>\n",
       "<circle clip-path=\"url(#clip012)\" cx=\"1874.17\" cy=\"1445.72\" r=\"14\" fill=\"#0000ff\" fill-rule=\"evenodd\" fill-opacity=\"1\" stroke=\"#000000\" stroke-opacity=\"1\" stroke-width=\"3.2\"/>\n",
       "<circle clip-path=\"url(#clip012)\" cx=\"1041.85\" cy=\"902.62\" r=\"14\" fill=\"#0000ff\" fill-rule=\"evenodd\" fill-opacity=\"1\" stroke=\"#000000\" stroke-opacity=\"1\" stroke-width=\"3.2\"/>\n",
       "<circle clip-path=\"url(#clip012)\" cx=\"1458.01\" cy=\"495.298\" r=\"14\" fill=\"#0000ff\" fill-rule=\"evenodd\" fill-opacity=\"1\" stroke=\"#000000\" stroke-opacity=\"1\" stroke-width=\"3.2\"/>\n",
       "<circle clip-path=\"url(#clip012)\" cx=\"2082.25\" cy=\"902.62\" r=\"14\" fill=\"#0000ff\" fill-rule=\"evenodd\" fill-opacity=\"1\" stroke=\"#000000\" stroke-opacity=\"1\" stroke-width=\"3.2\"/>\n",
       "<polyline clip-path=\"url(#clip012)\" style=\"stroke:#008000; stroke-width:4; stroke-opacity:1; fill:none\" points=\"\n",
       "  1874.17,1445.72 2290.33,766.846 1458.01,87.9763 209.532,766.846 625.692,1038.39 1874.17,1445.72 \n",
       "  \"/>\n",
       "<circle clip-path=\"url(#clip012)\" cx=\"1874.17\" cy=\"1445.72\" r=\"14\" fill=\"#ff0000\" fill-rule=\"evenodd\" fill-opacity=\"1\" stroke=\"#000000\" stroke-opacity=\"1\" stroke-width=\"3.2\"/>\n",
       "<circle clip-path=\"url(#clip012)\" cx=\"2290.33\" cy=\"766.846\" r=\"14\" fill=\"#ff0000\" fill-rule=\"evenodd\" fill-opacity=\"1\" stroke=\"#000000\" stroke-opacity=\"1\" stroke-width=\"3.2\"/>\n",
       "<circle clip-path=\"url(#clip012)\" cx=\"1458.01\" cy=\"87.9763\" r=\"14\" fill=\"#ff0000\" fill-rule=\"evenodd\" fill-opacity=\"1\" stroke=\"#000000\" stroke-opacity=\"1\" stroke-width=\"3.2\"/>\n",
       "<circle clip-path=\"url(#clip012)\" cx=\"209.532\" cy=\"766.846\" r=\"14\" fill=\"#ff0000\" fill-rule=\"evenodd\" fill-opacity=\"1\" stroke=\"#000000\" stroke-opacity=\"1\" stroke-width=\"3.2\"/>\n",
       "<circle clip-path=\"url(#clip012)\" cx=\"625.692\" cy=\"1038.39\" r=\"14\" fill=\"#ff0000\" fill-rule=\"evenodd\" fill-opacity=\"1\" stroke=\"#000000\" stroke-opacity=\"1\" stroke-width=\"3.2\"/>\n",
       "<circle clip-path=\"url(#clip012)\" cx=\"1874.17\" cy=\"1445.72\" r=\"14\" fill=\"#ff0000\" fill-rule=\"evenodd\" fill-opacity=\"1\" stroke=\"#000000\" stroke-opacity=\"1\" stroke-width=\"3.2\"/>\n",
       "</svg>\n"
      ]
     },
     "execution_count": 161,
     "metadata": {},
     "output_type": "execute_result"
    }
   ],
   "source": [
    "using Plots\n",
    "p=plot()\n",
    "scatter!(points;legend=false,markercolor=:blue)\n",
    "plot!(mnog, linecolor=:green,markershape=:circle,markercolor=:red)"
   ]
  },
  {
   "cell_type": "markdown",
   "metadata": {},
   "source": [
    "Задача 2"
   ]
  },
  {
   "cell_type": "code",
   "execution_count": 162,
   "metadata": {
    "scrolled": true
   },
   "outputs": [
    {
     "data": {
      "text/plain": [
       "8-element Vector{Tuple{Float64, Float64}}:\n",
       " (1.0, 0.0)\n",
       " (0.0, 2.0)\n",
       " (3.0, 7.0)\n",
       " (5.0, 2.0)\n",
       " (4.0, -3.0)\n",
       " (2.0, 1.0)\n",
       " (3.0, 4.0)\n",
       " (4.5, 1.0)"
      ]
     },
     "execution_count": 162,
     "metadata": {},
     "output_type": "execute_result"
    }
   ],
   "source": [
    "points=[s for s in zip([1.0,0.0,3.0,5.0,4.0,2.0,3.0,4.5],[0.0,2.0,7.0,2.0,-3.0,1.0,4.0,1.0])]"
   ]
  },
  {
   "cell_type": "code",
   "execution_count": 163,
   "metadata": {},
   "outputs": [
    {
     "data": {
      "image/svg+xml": [
       "<?xml version=\"1.0\" encoding=\"utf-8\"?>\n",
       "<svg xmlns=\"http://www.w3.org/2000/svg\" xmlns:xlink=\"http://www.w3.org/1999/xlink\" width=\"600\" height=\"400\" viewBox=\"0 0 2400 1600\">\n",
       "<defs>\n",
       "  <clipPath id=\"clip050\">\n",
       "    <rect x=\"0\" y=\"0\" width=\"2400\" height=\"1600\"/>\n",
       "  </clipPath>\n",
       "</defs>\n",
       "<path clip-path=\"url(#clip050)\" d=\"\n",
       "M0 1600 L2400 1600 L2400 0 L0 0  Z\n",
       "  \" fill=\"#ffffff\" fill-rule=\"evenodd\" fill-opacity=\"1\"/>\n",
       "<defs>\n",
       "  <clipPath id=\"clip051\">\n",
       "    <rect x=\"480\" y=\"0\" width=\"1681\" height=\"1600\"/>\n",
       "  </clipPath>\n",
       "</defs>\n",
       "<path clip-path=\"url(#clip050)\" d=\"\n",
       "M147.108 1486.45 L2352.76 1486.45 L2352.76 47.2441 L147.108 47.2441  Z\n",
       "  \" fill=\"#ffffff\" fill-rule=\"evenodd\" fill-opacity=\"1\"/>\n",
       "<defs>\n",
       "  <clipPath id=\"clip052\">\n",
       "    <rect x=\"147\" y=\"47\" width=\"2207\" height=\"1440\"/>\n",
       "  </clipPath>\n",
       "</defs>\n",
       "<polyline clip-path=\"url(#clip052)\" style=\"stroke:#000000; stroke-width:2; stroke-opacity:0.1; fill:none\" points=\"\n",
       "  209.532,1486.45 209.532,47.2441 \n",
       "  \"/>\n",
       "<polyline clip-path=\"url(#clip052)\" style=\"stroke:#000000; stroke-width:2; stroke-opacity:0.1; fill:none\" points=\"\n",
       "  625.692,1486.45 625.692,47.2441 \n",
       "  \"/>\n",
       "<polyline clip-path=\"url(#clip052)\" style=\"stroke:#000000; stroke-width:2; stroke-opacity:0.1; fill:none\" points=\"\n",
       "  1041.85,1486.45 1041.85,47.2441 \n",
       "  \"/>\n",
       "<polyline clip-path=\"url(#clip052)\" style=\"stroke:#000000; stroke-width:2; stroke-opacity:0.1; fill:none\" points=\"\n",
       "  1458.01,1486.45 1458.01,47.2441 \n",
       "  \"/>\n",
       "<polyline clip-path=\"url(#clip052)\" style=\"stroke:#000000; stroke-width:2; stroke-opacity:0.1; fill:none\" points=\"\n",
       "  1874.17,1486.45 1874.17,47.2441 \n",
       "  \"/>\n",
       "<polyline clip-path=\"url(#clip052)\" style=\"stroke:#000000; stroke-width:2; stroke-opacity:0.1; fill:none\" points=\"\n",
       "  2290.33,1486.45 2290.33,47.2441 \n",
       "  \"/>\n",
       "<polyline clip-path=\"url(#clip050)\" style=\"stroke:#000000; stroke-width:4; stroke-opacity:1; fill:none\" points=\"\n",
       "  147.108,1486.45 2352.76,1486.45 \n",
       "  \"/>\n",
       "<polyline clip-path=\"url(#clip050)\" style=\"stroke:#000000; stroke-width:4; stroke-opacity:1; fill:none\" points=\"\n",
       "  209.532,1486.45 209.532,1469.18 \n",
       "  \"/>\n",
       "<polyline clip-path=\"url(#clip050)\" style=\"stroke:#000000; stroke-width:4; stroke-opacity:1; fill:none\" points=\"\n",
       "  625.692,1486.45 625.692,1469.18 \n",
       "  \"/>\n",
       "<polyline clip-path=\"url(#clip050)\" style=\"stroke:#000000; stroke-width:4; stroke-opacity:1; fill:none\" points=\"\n",
       "  1041.85,1486.45 1041.85,1469.18 \n",
       "  \"/>\n",
       "<polyline clip-path=\"url(#clip050)\" style=\"stroke:#000000; stroke-width:4; stroke-opacity:1; fill:none\" points=\"\n",
       "  1458.01,1486.45 1458.01,1469.18 \n",
       "  \"/>\n",
       "<polyline clip-path=\"url(#clip050)\" style=\"stroke:#000000; stroke-width:4; stroke-opacity:1; fill:none\" points=\"\n",
       "  1874.17,1486.45 1874.17,1469.18 \n",
       "  \"/>\n",
       "<polyline clip-path=\"url(#clip050)\" style=\"stroke:#000000; stroke-width:4; stroke-opacity:1; fill:none\" points=\"\n",
       "  2290.33,1486.45 2290.33,1469.18 \n",
       "  \"/>\n",
       "<path clip-path=\"url(#clip050)\" d=\"M 0 0 M209.532 1515.64 Q205.92 1515.64 204.092 1519.2 Q202.286 1522.75 202.286 1529.87 Q202.286 1536.98 204.092 1540.55 Q205.92 1544.09 209.532 1544.09 Q213.166 1544.09 214.971 1540.55 Q216.8 1536.98 216.8 1529.87 Q216.8 1522.75 214.971 1519.2 Q213.166 1515.64 209.532 1515.64 M209.532 1511.93 Q215.342 1511.93 218.397 1516.54 Q221.476 1521.12 221.476 1529.87 Q221.476 1538.6 218.397 1543.21 Q215.342 1547.79 209.532 1547.79 Q203.721 1547.79 200.643 1543.21 Q197.587 1538.6 197.587 1529.87 Q197.587 1521.12 200.643 1516.54 Q203.721 1511.93 209.532 1511.93 Z\" fill=\"#000000\" fill-rule=\"evenodd\" fill-opacity=\"1\" /><path clip-path=\"url(#clip050)\" d=\"M 0 0 M616.074 1543.18 L623.712 1543.18 L623.712 1516.82 L615.402 1518.49 L615.402 1514.23 L623.666 1512.56 L628.342 1512.56 L628.342 1543.18 L635.981 1543.18 L635.981 1547.12 L616.074 1547.12 L616.074 1543.18 Z\" fill=\"#000000\" fill-rule=\"evenodd\" fill-opacity=\"1\" /><path clip-path=\"url(#clip050)\" d=\"M 0 0 M1036.5 1543.18 L1052.82 1543.18 L1052.82 1547.12 L1030.88 1547.12 L1030.88 1543.18 Q1033.54 1540.43 1038.12 1535.8 Q1042.73 1531.15 1043.91 1529.81 Q1046.16 1527.28 1047.04 1525.55 Q1047.94 1523.79 1047.94 1522.1 Q1047.94 1519.34 1046 1517.61 Q1044.07 1515.87 1040.97 1515.87 Q1038.77 1515.87 1036.32 1516.63 Q1033.89 1517.4 1031.11 1518.95 L1031.11 1514.23 Q1033.94 1513.09 1036.39 1512.51 Q1038.84 1511.93 1040.88 1511.93 Q1046.25 1511.93 1049.44 1514.62 Q1052.64 1517.31 1052.64 1521.8 Q1052.64 1523.93 1051.83 1525.85 Q1051.04 1527.74 1048.93 1530.34 Q1048.36 1531.01 1045.25 1534.23 Q1042.15 1537.42 1036.5 1543.18 Z\" fill=\"#000000\" fill-rule=\"evenodd\" fill-opacity=\"1\" /><path clip-path=\"url(#clip050)\" d=\"M 0 0 M1462.26 1528.49 Q1465.62 1529.2 1467.49 1531.47 Q1469.39 1533.74 1469.39 1537.07 Q1469.39 1542.19 1465.87 1544.99 Q1462.35 1547.79 1455.87 1547.79 Q1453.69 1547.79 1451.38 1547.35 Q1449.09 1546.93 1446.63 1546.08 L1446.63 1541.56 Q1448.58 1542.7 1450.89 1543.28 Q1453.21 1543.86 1455.73 1543.86 Q1460.13 1543.86 1462.42 1542.12 Q1464.74 1540.38 1464.74 1537.07 Q1464.74 1534.02 1462.58 1532.31 Q1460.45 1530.57 1456.63 1530.57 L1452.61 1530.57 L1452.61 1526.73 L1456.82 1526.73 Q1460.27 1526.73 1462.1 1525.36 Q1463.93 1523.97 1463.93 1521.38 Q1463.93 1518.72 1462.03 1517.31 Q1460.15 1515.87 1456.63 1515.87 Q1454.71 1515.87 1452.51 1516.29 Q1450.32 1516.7 1447.68 1517.58 L1447.68 1513.42 Q1450.34 1512.68 1452.65 1512.31 Q1454.99 1511.93 1457.05 1511.93 Q1462.38 1511.93 1465.48 1514.37 Q1468.58 1516.77 1468.58 1520.89 Q1468.58 1523.76 1466.94 1525.75 Q1465.29 1527.72 1462.26 1528.49 Z\" fill=\"#000000\" fill-rule=\"evenodd\" fill-opacity=\"1\" /><path clip-path=\"url(#clip050)\" d=\"M 0 0 M1877.18 1516.63 L1865.38 1535.08 L1877.18 1535.08 L1877.18 1516.63 M1875.95 1512.56 L1881.83 1512.56 L1881.83 1535.08 L1886.76 1535.08 L1886.76 1538.97 L1881.83 1538.97 L1881.83 1547.12 L1877.18 1547.12 L1877.18 1538.97 L1861.58 1538.97 L1861.58 1534.46 L1875.95 1512.56 Z\" fill=\"#000000\" fill-rule=\"evenodd\" fill-opacity=\"1\" /><path clip-path=\"url(#clip050)\" d=\"M 0 0 M2280.61 1512.56 L2298.97 1512.56 L2298.97 1516.5 L2284.89 1516.5 L2284.89 1524.97 Q2285.91 1524.62 2286.93 1524.46 Q2287.95 1524.27 2288.97 1524.27 Q2294.75 1524.27 2298.13 1527.44 Q2301.51 1530.62 2301.51 1536.03 Q2301.51 1541.61 2298.04 1544.71 Q2294.57 1547.79 2288.25 1547.79 Q2286.07 1547.79 2283.8 1547.42 Q2281.56 1547.05 2279.15 1546.31 L2279.15 1541.61 Q2281.23 1542.74 2283.46 1543.3 Q2285.68 1543.86 2288.16 1543.86 Q2292.16 1543.86 2294.5 1541.75 Q2296.84 1539.64 2296.84 1536.03 Q2296.84 1532.42 2294.5 1530.31 Q2292.16 1528.21 2288.16 1528.21 Q2286.28 1528.21 2284.41 1528.62 Q2282.55 1529.04 2280.61 1529.92 L2280.61 1512.56 Z\" fill=\"#000000\" fill-rule=\"evenodd\" fill-opacity=\"1\" /><polyline clip-path=\"url(#clip052)\" style=\"stroke:#000000; stroke-width:2; stroke-opacity:0.1; fill:none\" points=\"\n",
       "  147.108,1309.94 2352.76,1309.94 \n",
       "  \"/>\n",
       "<polyline clip-path=\"url(#clip052)\" style=\"stroke:#000000; stroke-width:2; stroke-opacity:0.1; fill:none\" points=\"\n",
       "  147.108,1038.39 2352.76,1038.39 \n",
       "  \"/>\n",
       "<polyline clip-path=\"url(#clip052)\" style=\"stroke:#000000; stroke-width:2; stroke-opacity:0.1; fill:none\" points=\"\n",
       "  147.108,766.846 2352.76,766.846 \n",
       "  \"/>\n",
       "<polyline clip-path=\"url(#clip052)\" style=\"stroke:#000000; stroke-width:2; stroke-opacity:0.1; fill:none\" points=\"\n",
       "  147.108,495.298 2352.76,495.298 \n",
       "  \"/>\n",
       "<polyline clip-path=\"url(#clip052)\" style=\"stroke:#000000; stroke-width:2; stroke-opacity:0.1; fill:none\" points=\"\n",
       "  147.108,223.75 2352.76,223.75 \n",
       "  \"/>\n",
       "<polyline clip-path=\"url(#clip050)\" style=\"stroke:#000000; stroke-width:4; stroke-opacity:1; fill:none\" points=\"\n",
       "  147.108,1486.45 147.108,47.2441 \n",
       "  \"/>\n",
       "<polyline clip-path=\"url(#clip050)\" style=\"stroke:#000000; stroke-width:4; stroke-opacity:1; fill:none\" points=\"\n",
       "  147.108,1309.94 173.575,1309.94 \n",
       "  \"/>\n",
       "<polyline clip-path=\"url(#clip050)\" style=\"stroke:#000000; stroke-width:4; stroke-opacity:1; fill:none\" points=\"\n",
       "  147.108,1038.39 173.575,1038.39 \n",
       "  \"/>\n",
       "<polyline clip-path=\"url(#clip050)\" style=\"stroke:#000000; stroke-width:4; stroke-opacity:1; fill:none\" points=\"\n",
       "  147.108,766.846 173.575,766.846 \n",
       "  \"/>\n",
       "<polyline clip-path=\"url(#clip050)\" style=\"stroke:#000000; stroke-width:4; stroke-opacity:1; fill:none\" points=\"\n",
       "  147.108,495.298 173.575,495.298 \n",
       "  \"/>\n",
       "<polyline clip-path=\"url(#clip050)\" style=\"stroke:#000000; stroke-width:4; stroke-opacity:1; fill:none\" points=\"\n",
       "  147.108,223.75 173.575,223.75 \n",
       "  \"/>\n",
       "<path clip-path=\"url(#clip050)\" d=\"M 0 0 M50.9921 1310.39 L80.6679 1310.39 L80.6679 1314.33 L50.9921 1314.33 L50.9921 1310.39 Z\" fill=\"#000000\" fill-rule=\"evenodd\" fill-opacity=\"1\" /><path clip-path=\"url(#clip050)\" d=\"M 0 0 M94.7882 1323.29 L111.108 1323.29 L111.108 1327.22 L89.1632 1327.22 L89.1632 1323.29 Q91.8252 1320.53 96.4085 1315.9 Q101.015 1311.25 102.196 1309.91 Q104.441 1307.38 105.321 1305.65 Q106.223 1303.89 106.223 1302.2 Q106.223 1299.44 104.279 1297.71 Q102.358 1295.97 99.2558 1295.97 Q97.0567 1295.97 94.603 1296.74 Q92.1725 1297.5 89.3947 1299.05 L89.3947 1294.33 Q92.2188 1293.19 94.6724 1292.62 Q97.1261 1292.04 99.1632 1292.04 Q104.534 1292.04 107.728 1294.72 Q110.922 1297.41 110.922 1301.9 Q110.922 1304.03 110.112 1305.95 Q109.325 1307.85 107.219 1310.44 Q106.64 1311.11 103.538 1314.33 Q100.436 1317.52 94.7882 1323.29 Z\" fill=\"#000000\" fill-rule=\"evenodd\" fill-opacity=\"1\" /><path clip-path=\"url(#clip050)\" d=\"M 0 0 M99.1632 1024.19 Q95.5521 1024.19 93.7234 1027.76 Q91.9178 1031.3 91.9178 1038.43 Q91.9178 1045.54 93.7234 1049.1 Q95.5521 1052.64 99.1632 1052.64 Q102.797 1052.64 104.603 1049.1 Q106.432 1045.54 106.432 1038.43 Q106.432 1031.3 104.603 1027.76 Q102.797 1024.19 99.1632 1024.19 M99.1632 1020.49 Q104.973 1020.49 108.029 1025.1 Q111.108 1029.68 111.108 1038.43 Q111.108 1047.16 108.029 1051.76 Q104.973 1056.35 99.1632 1056.35 Q93.353 1056.35 90.2743 1051.76 Q87.2188 1047.16 87.2188 1038.43 Q87.2188 1029.68 90.2743 1025.1 Q93.353 1020.49 99.1632 1020.49 Z\" fill=\"#000000\" fill-rule=\"evenodd\" fill-opacity=\"1\" /><path clip-path=\"url(#clip050)\" d=\"M 0 0 M94.7882 780.191 L111.108 780.191 L111.108 784.126 L89.1632 784.126 L89.1632 780.191 Q91.8252 777.436 96.4085 772.807 Q101.015 768.154 102.196 766.811 Q104.441 764.288 105.321 762.552 Q106.223 760.793 106.223 759.103 Q106.223 756.348 104.279 754.612 Q102.358 752.876 99.2558 752.876 Q97.0567 752.876 94.603 753.64 Q92.1725 754.404 89.3947 755.955 L89.3947 751.233 Q92.2188 750.098 94.6724 749.52 Q97.1261 748.941 99.1632 748.941 Q104.534 748.941 107.728 751.626 Q110.922 754.311 110.922 758.802 Q110.922 760.932 110.112 762.853 Q109.325 764.751 107.219 767.344 Q106.64 768.015 103.538 771.233 Q100.436 774.427 94.7882 780.191 Z\" fill=\"#000000\" fill-rule=\"evenodd\" fill-opacity=\"1\" /><path clip-path=\"url(#clip050)\" d=\"M 0 0 M101.524 482.092 L89.7188 500.541 L101.524 500.541 L101.524 482.092 M100.297 478.018 L106.177 478.018 L106.177 500.541 L111.108 500.541 L111.108 504.43 L106.177 504.43 L106.177 512.578 L101.524 512.578 L101.524 504.43 L85.9225 504.43 L85.9225 499.916 L100.297 478.018 Z\" fill=\"#000000\" fill-rule=\"evenodd\" fill-opacity=\"1\" /><path clip-path=\"url(#clip050)\" d=\"M 0 0 M99.5798 221.887 Q96.4317 221.887 94.5799 224.04 Q92.7512 226.192 92.7512 229.942 Q92.7512 233.669 94.5799 235.845 Q96.4317 237.998 99.5798 237.998 Q102.728 237.998 104.557 235.845 Q106.408 233.669 106.408 229.942 Q106.408 226.192 104.557 224.04 Q102.728 221.887 99.5798 221.887 M108.862 207.234 L108.862 211.493 Q107.103 210.66 105.297 210.22 Q103.515 209.78 101.756 209.78 Q97.1261 209.78 94.6724 212.905 Q92.2419 216.03 91.8947 222.35 Q93.2604 220.336 95.3206 219.271 Q97.3808 218.183 99.8576 218.183 Q105.066 218.183 108.075 221.354 Q111.108 224.503 111.108 229.942 Q111.108 235.266 107.959 238.484 Q104.811 241.702 99.5798 241.702 Q93.5845 241.702 90.4132 237.118 Q87.2419 232.512 87.2419 223.785 Q87.2419 215.591 91.1308 210.729 Q95.0197 205.845 101.571 205.845 Q103.33 205.845 105.112 206.192 Q106.918 206.54 108.862 207.234 Z\" fill=\"#000000\" fill-rule=\"evenodd\" fill-opacity=\"1\" /><circle clip-path=\"url(#clip052)\" cx=\"625.692\" cy=\"1038.39\" r=\"14\" fill=\"#009af9\" fill-rule=\"evenodd\" fill-opacity=\"1\" stroke=\"#000000\" stroke-opacity=\"1\" stroke-width=\"3.2\"/>\n",
       "<circle clip-path=\"url(#clip052)\" cx=\"209.532\" cy=\"766.846\" r=\"14\" fill=\"#009af9\" fill-rule=\"evenodd\" fill-opacity=\"1\" stroke=\"#000000\" stroke-opacity=\"1\" stroke-width=\"3.2\"/>\n",
       "<circle clip-path=\"url(#clip052)\" cx=\"1458.01\" cy=\"87.9763\" r=\"14\" fill=\"#009af9\" fill-rule=\"evenodd\" fill-opacity=\"1\" stroke=\"#000000\" stroke-opacity=\"1\" stroke-width=\"3.2\"/>\n",
       "<circle clip-path=\"url(#clip052)\" cx=\"2290.33\" cy=\"766.846\" r=\"14\" fill=\"#009af9\" fill-rule=\"evenodd\" fill-opacity=\"1\" stroke=\"#000000\" stroke-opacity=\"1\" stroke-width=\"3.2\"/>\n",
       "<circle clip-path=\"url(#clip052)\" cx=\"1874.17\" cy=\"1445.72\" r=\"14\" fill=\"#009af9\" fill-rule=\"evenodd\" fill-opacity=\"1\" stroke=\"#000000\" stroke-opacity=\"1\" stroke-width=\"3.2\"/>\n",
       "<circle clip-path=\"url(#clip052)\" cx=\"1041.85\" cy=\"902.62\" r=\"14\" fill=\"#009af9\" fill-rule=\"evenodd\" fill-opacity=\"1\" stroke=\"#000000\" stroke-opacity=\"1\" stroke-width=\"3.2\"/>\n",
       "<circle clip-path=\"url(#clip052)\" cx=\"1458.01\" cy=\"495.298\" r=\"14\" fill=\"#009af9\" fill-rule=\"evenodd\" fill-opacity=\"1\" stroke=\"#000000\" stroke-opacity=\"1\" stroke-width=\"3.2\"/>\n",
       "<circle clip-path=\"url(#clip052)\" cx=\"2082.25\" cy=\"902.62\" r=\"14\" fill=\"#009af9\" fill-rule=\"evenodd\" fill-opacity=\"1\" stroke=\"#000000\" stroke-opacity=\"1\" stroke-width=\"3.2\"/>\n",
       "</svg>\n"
      ]
     },
     "execution_count": 163,
     "metadata": {},
     "output_type": "execute_result"
    }
   ],
   "source": [
    "using Plots\n",
    "p=plot()\n",
    "scatter(points; legend = false) "
   ]
  },
  {
   "cell_type": "code",
   "execution_count": 164,
   "metadata": {},
   "outputs": [
    {
     "data": {
      "text/plain": [
       "rot (generic function with 1 method)"
      ]
     },
     "execution_count": 164,
     "metadata": {},
     "output_type": "execute_result"
    }
   ],
   "source": [
    "function rot(a,b,c)\n",
    "    return pi>=ugol((b[1]-a[1],b[2]-a[2]),(c[1]-a[1],c[2]-a[2]))\n",
    "end"
   ]
  },
  {
   "cell_type": "code",
   "execution_count": 165,
   "metadata": {},
   "outputs": [
    {
     "data": {
      "text/plain": [
       "grehom (generic function with 1 method)"
      ]
     },
     "execution_count": 165,
     "metadata": {},
     "output_type": "execute_result"
    }
   ],
   "source": [
    "function grehom(points)\n",
    "    res=[]\n",
    "    push!(res,points[1])\n",
    "    m=1\n",
    "    for i in 1:length(points)\n",
    "        if reverse(points[i])<reverse(res[1])\n",
    "            res[1]=points[i]\n",
    "        end\n",
    "    end\n",
    "    for i in 2:length(points)\n",
    "        j = i\n",
    "        while j>1 && rot(points[1],points[j-1],points[j]) \n",
    "          points[j], points[j-1] = points[j-1], points[j]\n",
    "          j -= 1\n",
    "        end\n",
    "    end\n",
    "    s = [points[1],points[2]]\n",
    "    for i in 2:length(points)\n",
    "        while rot(s[length(s)-1],s[length(s)],points[i]) && length(s)>2\n",
    "          pop!(s)\n",
    "        end\n",
    "        push!(s,points[i])\n",
    "    end\n",
    "    push!(s,s[1])\n",
    "    return s\n",
    "end"
   ]
  },
  {
   "cell_type": "code",
   "execution_count": 166,
   "metadata": {},
   "outputs": [
    {
     "data": {
      "text/plain": [
       "7-element Vector{Tuple{Float64, Float64}}:\n",
       " (1.0, 0.0)\n",
       " (4.0, -3.0)\n",
       " (4.0, -3.0)\n",
       " (5.0, 2.0)\n",
       " (3.0, 7.0)\n",
       " (0.0, 2.0)\n",
       " (1.0, 0.0)"
      ]
     },
     "execution_count": 166,
     "metadata": {},
     "output_type": "execute_result"
    }
   ],
   "source": [
    "res=grehom(points)"
   ]
  },
  {
   "cell_type": "code",
   "execution_count": 167,
   "metadata": {},
   "outputs": [],
   "source": [
    "x=[]\n",
    "y=[]\n",
    "for a in res\n",
    "    push!(x,a[1])\n",
    "    push!(y,a[2])\n",
    "end"
   ]
  },
  {
   "cell_type": "code",
   "execution_count": 168,
   "metadata": {},
   "outputs": [
    {
     "data": {
      "text/plain": [
       "7-element Vector{Tuple{Float64, Float64}}:\n",
       " (1.0, 0.0)\n",
       " (4.0, -3.0)\n",
       " (4.0, -3.0)\n",
       " (5.0, 2.0)\n",
       " (3.0, 7.0)\n",
       " (0.0, 2.0)\n",
       " (1.0, 0.0)"
      ]
     },
     "execution_count": 168,
     "metadata": {},
     "output_type": "execute_result"
    }
   ],
   "source": [
    "mnog=[s for s in zip(x,y)]"
   ]
  },
  {
   "cell_type": "code",
   "execution_count": 169,
   "metadata": {},
   "outputs": [
    {
     "data": {
      "image/svg+xml": [
       "<?xml version=\"1.0\" encoding=\"utf-8\"?>\n",
       "<svg xmlns=\"http://www.w3.org/2000/svg\" xmlns:xlink=\"http://www.w3.org/1999/xlink\" width=\"600\" height=\"400\" viewBox=\"0 0 2400 1600\">\n",
       "<defs>\n",
       "  <clipPath id=\"clip090\">\n",
       "    <rect x=\"0\" y=\"0\" width=\"2400\" height=\"1600\"/>\n",
       "  </clipPath>\n",
       "</defs>\n",
       "<path clip-path=\"url(#clip090)\" d=\"\n",
       "M0 1600 L2400 1600 L2400 0 L0 0  Z\n",
       "  \" fill=\"#ffffff\" fill-rule=\"evenodd\" fill-opacity=\"1\"/>\n",
       "<defs>\n",
       "  <clipPath id=\"clip091\">\n",
       "    <rect x=\"480\" y=\"0\" width=\"1681\" height=\"1600\"/>\n",
       "  </clipPath>\n",
       "</defs>\n",
       "<path clip-path=\"url(#clip090)\" d=\"\n",
       "M147.108 1486.45 L2352.76 1486.45 L2352.76 47.2441 L147.108 47.2441  Z\n",
       "  \" fill=\"#ffffff\" fill-rule=\"evenodd\" fill-opacity=\"1\"/>\n",
       "<defs>\n",
       "  <clipPath id=\"clip092\">\n",
       "    <rect x=\"147\" y=\"47\" width=\"2207\" height=\"1440\"/>\n",
       "  </clipPath>\n",
       "</defs>\n",
       "<polyline clip-path=\"url(#clip092)\" style=\"stroke:#000000; stroke-width:2; stroke-opacity:0.1; fill:none\" points=\"\n",
       "  209.532,1486.45 209.532,47.2441 \n",
       "  \"/>\n",
       "<polyline clip-path=\"url(#clip092)\" style=\"stroke:#000000; stroke-width:2; stroke-opacity:0.1; fill:none\" points=\"\n",
       "  625.692,1486.45 625.692,47.2441 \n",
       "  \"/>\n",
       "<polyline clip-path=\"url(#clip092)\" style=\"stroke:#000000; stroke-width:2; stroke-opacity:0.1; fill:none\" points=\"\n",
       "  1041.85,1486.45 1041.85,47.2441 \n",
       "  \"/>\n",
       "<polyline clip-path=\"url(#clip092)\" style=\"stroke:#000000; stroke-width:2; stroke-opacity:0.1; fill:none\" points=\"\n",
       "  1458.01,1486.45 1458.01,47.2441 \n",
       "  \"/>\n",
       "<polyline clip-path=\"url(#clip092)\" style=\"stroke:#000000; stroke-width:2; stroke-opacity:0.1; fill:none\" points=\"\n",
       "  1874.17,1486.45 1874.17,47.2441 \n",
       "  \"/>\n",
       "<polyline clip-path=\"url(#clip092)\" style=\"stroke:#000000; stroke-width:2; stroke-opacity:0.1; fill:none\" points=\"\n",
       "  2290.33,1486.45 2290.33,47.2441 \n",
       "  \"/>\n",
       "<polyline clip-path=\"url(#clip090)\" style=\"stroke:#000000; stroke-width:4; stroke-opacity:1; fill:none\" points=\"\n",
       "  147.108,1486.45 2352.76,1486.45 \n",
       "  \"/>\n",
       "<polyline clip-path=\"url(#clip090)\" style=\"stroke:#000000; stroke-width:4; stroke-opacity:1; fill:none\" points=\"\n",
       "  209.532,1486.45 209.532,1469.18 \n",
       "  \"/>\n",
       "<polyline clip-path=\"url(#clip090)\" style=\"stroke:#000000; stroke-width:4; stroke-opacity:1; fill:none\" points=\"\n",
       "  625.692,1486.45 625.692,1469.18 \n",
       "  \"/>\n",
       "<polyline clip-path=\"url(#clip090)\" style=\"stroke:#000000; stroke-width:4; stroke-opacity:1; fill:none\" points=\"\n",
       "  1041.85,1486.45 1041.85,1469.18 \n",
       "  \"/>\n",
       "<polyline clip-path=\"url(#clip090)\" style=\"stroke:#000000; stroke-width:4; stroke-opacity:1; fill:none\" points=\"\n",
       "  1458.01,1486.45 1458.01,1469.18 \n",
       "  \"/>\n",
       "<polyline clip-path=\"url(#clip090)\" style=\"stroke:#000000; stroke-width:4; stroke-opacity:1; fill:none\" points=\"\n",
       "  1874.17,1486.45 1874.17,1469.18 \n",
       "  \"/>\n",
       "<polyline clip-path=\"url(#clip090)\" style=\"stroke:#000000; stroke-width:4; stroke-opacity:1; fill:none\" points=\"\n",
       "  2290.33,1486.45 2290.33,1469.18 \n",
       "  \"/>\n",
       "<path clip-path=\"url(#clip090)\" d=\"M 0 0 M209.532 1515.64 Q205.92 1515.64 204.092 1519.2 Q202.286 1522.75 202.286 1529.87 Q202.286 1536.98 204.092 1540.55 Q205.92 1544.09 209.532 1544.09 Q213.166 1544.09 214.971 1540.55 Q216.8 1536.98 216.8 1529.87 Q216.8 1522.75 214.971 1519.2 Q213.166 1515.64 209.532 1515.64 M209.532 1511.93 Q215.342 1511.93 218.397 1516.54 Q221.476 1521.12 221.476 1529.87 Q221.476 1538.6 218.397 1543.21 Q215.342 1547.79 209.532 1547.79 Q203.721 1547.79 200.643 1543.21 Q197.587 1538.6 197.587 1529.87 Q197.587 1521.12 200.643 1516.54 Q203.721 1511.93 209.532 1511.93 Z\" fill=\"#000000\" fill-rule=\"evenodd\" fill-opacity=\"1\" /><path clip-path=\"url(#clip090)\" d=\"M 0 0 M616.074 1543.18 L623.712 1543.18 L623.712 1516.82 L615.402 1518.49 L615.402 1514.23 L623.666 1512.56 L628.342 1512.56 L628.342 1543.18 L635.981 1543.18 L635.981 1547.12 L616.074 1547.12 L616.074 1543.18 Z\" fill=\"#000000\" fill-rule=\"evenodd\" fill-opacity=\"1\" /><path clip-path=\"url(#clip090)\" d=\"M 0 0 M1036.5 1543.18 L1052.82 1543.18 L1052.82 1547.12 L1030.88 1547.12 L1030.88 1543.18 Q1033.54 1540.43 1038.12 1535.8 Q1042.73 1531.15 1043.91 1529.81 Q1046.16 1527.28 1047.04 1525.55 Q1047.94 1523.79 1047.94 1522.1 Q1047.94 1519.34 1046 1517.61 Q1044.07 1515.87 1040.97 1515.87 Q1038.77 1515.87 1036.32 1516.63 Q1033.89 1517.4 1031.11 1518.95 L1031.11 1514.23 Q1033.94 1513.09 1036.39 1512.51 Q1038.84 1511.93 1040.88 1511.93 Q1046.25 1511.93 1049.44 1514.62 Q1052.64 1517.31 1052.64 1521.8 Q1052.64 1523.93 1051.83 1525.85 Q1051.04 1527.74 1048.93 1530.34 Q1048.36 1531.01 1045.25 1534.23 Q1042.15 1537.42 1036.5 1543.18 Z\" fill=\"#000000\" fill-rule=\"evenodd\" fill-opacity=\"1\" /><path clip-path=\"url(#clip090)\" d=\"M 0 0 M1462.26 1528.49 Q1465.62 1529.2 1467.49 1531.47 Q1469.39 1533.74 1469.39 1537.07 Q1469.39 1542.19 1465.87 1544.99 Q1462.35 1547.79 1455.87 1547.79 Q1453.69 1547.79 1451.38 1547.35 Q1449.09 1546.93 1446.63 1546.08 L1446.63 1541.56 Q1448.58 1542.7 1450.89 1543.28 Q1453.21 1543.86 1455.73 1543.86 Q1460.13 1543.86 1462.42 1542.12 Q1464.74 1540.38 1464.74 1537.07 Q1464.74 1534.02 1462.58 1532.31 Q1460.45 1530.57 1456.63 1530.57 L1452.61 1530.57 L1452.61 1526.73 L1456.82 1526.73 Q1460.27 1526.73 1462.1 1525.36 Q1463.93 1523.97 1463.93 1521.38 Q1463.93 1518.72 1462.03 1517.31 Q1460.15 1515.87 1456.63 1515.87 Q1454.71 1515.87 1452.51 1516.29 Q1450.32 1516.7 1447.68 1517.58 L1447.68 1513.42 Q1450.34 1512.68 1452.65 1512.31 Q1454.99 1511.93 1457.05 1511.93 Q1462.38 1511.93 1465.48 1514.37 Q1468.58 1516.77 1468.58 1520.89 Q1468.58 1523.76 1466.94 1525.75 Q1465.29 1527.72 1462.26 1528.49 Z\" fill=\"#000000\" fill-rule=\"evenodd\" fill-opacity=\"1\" /><path clip-path=\"url(#clip090)\" d=\"M 0 0 M1877.18 1516.63 L1865.38 1535.08 L1877.18 1535.08 L1877.18 1516.63 M1875.95 1512.56 L1881.83 1512.56 L1881.83 1535.08 L1886.76 1535.08 L1886.76 1538.97 L1881.83 1538.97 L1881.83 1547.12 L1877.18 1547.12 L1877.18 1538.97 L1861.58 1538.97 L1861.58 1534.46 L1875.95 1512.56 Z\" fill=\"#000000\" fill-rule=\"evenodd\" fill-opacity=\"1\" /><path clip-path=\"url(#clip090)\" d=\"M 0 0 M2280.61 1512.56 L2298.97 1512.56 L2298.97 1516.5 L2284.89 1516.5 L2284.89 1524.97 Q2285.91 1524.62 2286.93 1524.46 Q2287.95 1524.27 2288.97 1524.27 Q2294.75 1524.27 2298.13 1527.44 Q2301.51 1530.62 2301.51 1536.03 Q2301.51 1541.61 2298.04 1544.71 Q2294.57 1547.79 2288.25 1547.79 Q2286.07 1547.79 2283.8 1547.42 Q2281.56 1547.05 2279.15 1546.31 L2279.15 1541.61 Q2281.23 1542.74 2283.46 1543.3 Q2285.68 1543.86 2288.16 1543.86 Q2292.16 1543.86 2294.5 1541.75 Q2296.84 1539.64 2296.84 1536.03 Q2296.84 1532.42 2294.5 1530.31 Q2292.16 1528.21 2288.16 1528.21 Q2286.28 1528.21 2284.41 1528.62 Q2282.55 1529.04 2280.61 1529.92 L2280.61 1512.56 Z\" fill=\"#000000\" fill-rule=\"evenodd\" fill-opacity=\"1\" /><polyline clip-path=\"url(#clip092)\" style=\"stroke:#000000; stroke-width:2; stroke-opacity:0.1; fill:none\" points=\"\n",
       "  147.108,1309.94 2352.76,1309.94 \n",
       "  \"/>\n",
       "<polyline clip-path=\"url(#clip092)\" style=\"stroke:#000000; stroke-width:2; stroke-opacity:0.1; fill:none\" points=\"\n",
       "  147.108,1038.39 2352.76,1038.39 \n",
       "  \"/>\n",
       "<polyline clip-path=\"url(#clip092)\" style=\"stroke:#000000; stroke-width:2; stroke-opacity:0.1; fill:none\" points=\"\n",
       "  147.108,766.846 2352.76,766.846 \n",
       "  \"/>\n",
       "<polyline clip-path=\"url(#clip092)\" style=\"stroke:#000000; stroke-width:2; stroke-opacity:0.1; fill:none\" points=\"\n",
       "  147.108,495.298 2352.76,495.298 \n",
       "  \"/>\n",
       "<polyline clip-path=\"url(#clip092)\" style=\"stroke:#000000; stroke-width:2; stroke-opacity:0.1; fill:none\" points=\"\n",
       "  147.108,223.75 2352.76,223.75 \n",
       "  \"/>\n",
       "<polyline clip-path=\"url(#clip090)\" style=\"stroke:#000000; stroke-width:4; stroke-opacity:1; fill:none\" points=\"\n",
       "  147.108,1486.45 147.108,47.2441 \n",
       "  \"/>\n",
       "<polyline clip-path=\"url(#clip090)\" style=\"stroke:#000000; stroke-width:4; stroke-opacity:1; fill:none\" points=\"\n",
       "  147.108,1309.94 173.575,1309.94 \n",
       "  \"/>\n",
       "<polyline clip-path=\"url(#clip090)\" style=\"stroke:#000000; stroke-width:4; stroke-opacity:1; fill:none\" points=\"\n",
       "  147.108,1038.39 173.575,1038.39 \n",
       "  \"/>\n",
       "<polyline clip-path=\"url(#clip090)\" style=\"stroke:#000000; stroke-width:4; stroke-opacity:1; fill:none\" points=\"\n",
       "  147.108,766.846 173.575,766.846 \n",
       "  \"/>\n",
       "<polyline clip-path=\"url(#clip090)\" style=\"stroke:#000000; stroke-width:4; stroke-opacity:1; fill:none\" points=\"\n",
       "  147.108,495.298 173.575,495.298 \n",
       "  \"/>\n",
       "<polyline clip-path=\"url(#clip090)\" style=\"stroke:#000000; stroke-width:4; stroke-opacity:1; fill:none\" points=\"\n",
       "  147.108,223.75 173.575,223.75 \n",
       "  \"/>\n",
       "<path clip-path=\"url(#clip090)\" d=\"M 0 0 M50.9921 1310.39 L80.6679 1310.39 L80.6679 1314.33 L50.9921 1314.33 L50.9921 1310.39 Z\" fill=\"#000000\" fill-rule=\"evenodd\" fill-opacity=\"1\" /><path clip-path=\"url(#clip090)\" d=\"M 0 0 M94.7882 1323.29 L111.108 1323.29 L111.108 1327.22 L89.1632 1327.22 L89.1632 1323.29 Q91.8252 1320.53 96.4085 1315.9 Q101.015 1311.25 102.196 1309.91 Q104.441 1307.38 105.321 1305.65 Q106.223 1303.89 106.223 1302.2 Q106.223 1299.44 104.279 1297.71 Q102.358 1295.97 99.2558 1295.97 Q97.0567 1295.97 94.603 1296.74 Q92.1725 1297.5 89.3947 1299.05 L89.3947 1294.33 Q92.2188 1293.19 94.6724 1292.62 Q97.1261 1292.04 99.1632 1292.04 Q104.534 1292.04 107.728 1294.72 Q110.922 1297.41 110.922 1301.9 Q110.922 1304.03 110.112 1305.95 Q109.325 1307.85 107.219 1310.44 Q106.64 1311.11 103.538 1314.33 Q100.436 1317.52 94.7882 1323.29 Z\" fill=\"#000000\" fill-rule=\"evenodd\" fill-opacity=\"1\" /><path clip-path=\"url(#clip090)\" d=\"M 0 0 M99.1632 1024.19 Q95.5521 1024.19 93.7234 1027.76 Q91.9178 1031.3 91.9178 1038.43 Q91.9178 1045.54 93.7234 1049.1 Q95.5521 1052.64 99.1632 1052.64 Q102.797 1052.64 104.603 1049.1 Q106.432 1045.54 106.432 1038.43 Q106.432 1031.3 104.603 1027.76 Q102.797 1024.19 99.1632 1024.19 M99.1632 1020.49 Q104.973 1020.49 108.029 1025.1 Q111.108 1029.68 111.108 1038.43 Q111.108 1047.16 108.029 1051.76 Q104.973 1056.35 99.1632 1056.35 Q93.353 1056.35 90.2743 1051.76 Q87.2188 1047.16 87.2188 1038.43 Q87.2188 1029.68 90.2743 1025.1 Q93.353 1020.49 99.1632 1020.49 Z\" fill=\"#000000\" fill-rule=\"evenodd\" fill-opacity=\"1\" /><path clip-path=\"url(#clip090)\" d=\"M 0 0 M94.7882 780.191 L111.108 780.191 L111.108 784.126 L89.1632 784.126 L89.1632 780.191 Q91.8252 777.436 96.4085 772.807 Q101.015 768.154 102.196 766.811 Q104.441 764.288 105.321 762.552 Q106.223 760.793 106.223 759.103 Q106.223 756.348 104.279 754.612 Q102.358 752.876 99.2558 752.876 Q97.0567 752.876 94.603 753.64 Q92.1725 754.404 89.3947 755.955 L89.3947 751.233 Q92.2188 750.098 94.6724 749.52 Q97.1261 748.941 99.1632 748.941 Q104.534 748.941 107.728 751.626 Q110.922 754.311 110.922 758.802 Q110.922 760.932 110.112 762.853 Q109.325 764.751 107.219 767.344 Q106.64 768.015 103.538 771.233 Q100.436 774.427 94.7882 780.191 Z\" fill=\"#000000\" fill-rule=\"evenodd\" fill-opacity=\"1\" /><path clip-path=\"url(#clip090)\" d=\"M 0 0 M101.524 482.092 L89.7188 500.541 L101.524 500.541 L101.524 482.092 M100.297 478.018 L106.177 478.018 L106.177 500.541 L111.108 500.541 L111.108 504.43 L106.177 504.43 L106.177 512.578 L101.524 512.578 L101.524 504.43 L85.9225 504.43 L85.9225 499.916 L100.297 478.018 Z\" fill=\"#000000\" fill-rule=\"evenodd\" fill-opacity=\"1\" /><path clip-path=\"url(#clip090)\" d=\"M 0 0 M99.5798 221.887 Q96.4317 221.887 94.5799 224.04 Q92.7512 226.192 92.7512 229.942 Q92.7512 233.669 94.5799 235.845 Q96.4317 237.998 99.5798 237.998 Q102.728 237.998 104.557 235.845 Q106.408 233.669 106.408 229.942 Q106.408 226.192 104.557 224.04 Q102.728 221.887 99.5798 221.887 M108.862 207.234 L108.862 211.493 Q107.103 210.66 105.297 210.22 Q103.515 209.78 101.756 209.78 Q97.1261 209.78 94.6724 212.905 Q92.2419 216.03 91.8947 222.35 Q93.2604 220.336 95.3206 219.271 Q97.3808 218.183 99.8576 218.183 Q105.066 218.183 108.075 221.354 Q111.108 224.503 111.108 229.942 Q111.108 235.266 107.959 238.484 Q104.811 241.702 99.5798 241.702 Q93.5845 241.702 90.4132 237.118 Q87.2419 232.512 87.2419 223.785 Q87.2419 215.591 91.1308 210.729 Q95.0197 205.845 101.571 205.845 Q103.33 205.845 105.112 206.192 Q106.918 206.54 108.862 207.234 Z\" fill=\"#000000\" fill-rule=\"evenodd\" fill-opacity=\"1\" /><circle clip-path=\"url(#clip092)\" cx=\"625.692\" cy=\"1038.39\" r=\"14\" fill=\"#0000ff\" fill-rule=\"evenodd\" fill-opacity=\"1\" stroke=\"#000000\" stroke-opacity=\"1\" stroke-width=\"3.2\"/>\n",
       "<circle clip-path=\"url(#clip092)\" cx=\"1874.17\" cy=\"1445.72\" r=\"14\" fill=\"#0000ff\" fill-rule=\"evenodd\" fill-opacity=\"1\" stroke=\"#000000\" stroke-opacity=\"1\" stroke-width=\"3.2\"/>\n",
       "<circle clip-path=\"url(#clip092)\" cx=\"2082.25\" cy=\"902.62\" r=\"14\" fill=\"#0000ff\" fill-rule=\"evenodd\" fill-opacity=\"1\" stroke=\"#000000\" stroke-opacity=\"1\" stroke-width=\"3.2\"/>\n",
       "<circle clip-path=\"url(#clip092)\" cx=\"2290.33\" cy=\"766.846\" r=\"14\" fill=\"#0000ff\" fill-rule=\"evenodd\" fill-opacity=\"1\" stroke=\"#000000\" stroke-opacity=\"1\" stroke-width=\"3.2\"/>\n",
       "<circle clip-path=\"url(#clip092)\" cx=\"1041.85\" cy=\"902.62\" r=\"14\" fill=\"#0000ff\" fill-rule=\"evenodd\" fill-opacity=\"1\" stroke=\"#000000\" stroke-opacity=\"1\" stroke-width=\"3.2\"/>\n",
       "<circle clip-path=\"url(#clip092)\" cx=\"1458.01\" cy=\"495.298\" r=\"14\" fill=\"#0000ff\" fill-rule=\"evenodd\" fill-opacity=\"1\" stroke=\"#000000\" stroke-opacity=\"1\" stroke-width=\"3.2\"/>\n",
       "<circle clip-path=\"url(#clip092)\" cx=\"1458.01\" cy=\"87.9763\" r=\"14\" fill=\"#0000ff\" fill-rule=\"evenodd\" fill-opacity=\"1\" stroke=\"#000000\" stroke-opacity=\"1\" stroke-width=\"3.2\"/>\n",
       "<circle clip-path=\"url(#clip092)\" cx=\"209.532\" cy=\"766.846\" r=\"14\" fill=\"#0000ff\" fill-rule=\"evenodd\" fill-opacity=\"1\" stroke=\"#000000\" stroke-opacity=\"1\" stroke-width=\"3.2\"/>\n",
       "<polyline clip-path=\"url(#clip092)\" style=\"stroke:#008000; stroke-width:4; stroke-opacity:1; fill:none\" points=\"\n",
       "  625.692,1038.39 1874.17,1445.72 2290.33,766.846 1458.01,87.9763 209.532,766.846 625.692,1038.39 \n",
       "  \"/>\n",
       "<circle clip-path=\"url(#clip092)\" cx=\"625.692\" cy=\"1038.39\" r=\"14\" fill=\"#ff0000\" fill-rule=\"evenodd\" fill-opacity=\"1\" stroke=\"#000000\" stroke-opacity=\"1\" stroke-width=\"3.2\"/>\n",
       "<circle clip-path=\"url(#clip092)\" cx=\"1874.17\" cy=\"1445.72\" r=\"14\" fill=\"#ff0000\" fill-rule=\"evenodd\" fill-opacity=\"1\" stroke=\"#000000\" stroke-opacity=\"1\" stroke-width=\"3.2\"/>\n",
       "<circle clip-path=\"url(#clip092)\" cx=\"1874.17\" cy=\"1445.72\" r=\"14\" fill=\"#ff0000\" fill-rule=\"evenodd\" fill-opacity=\"1\" stroke=\"#000000\" stroke-opacity=\"1\" stroke-width=\"3.2\"/>\n",
       "<circle clip-path=\"url(#clip092)\" cx=\"2290.33\" cy=\"766.846\" r=\"14\" fill=\"#ff0000\" fill-rule=\"evenodd\" fill-opacity=\"1\" stroke=\"#000000\" stroke-opacity=\"1\" stroke-width=\"3.2\"/>\n",
       "<circle clip-path=\"url(#clip092)\" cx=\"1458.01\" cy=\"87.9763\" r=\"14\" fill=\"#ff0000\" fill-rule=\"evenodd\" fill-opacity=\"1\" stroke=\"#000000\" stroke-opacity=\"1\" stroke-width=\"3.2\"/>\n",
       "<circle clip-path=\"url(#clip092)\" cx=\"209.532\" cy=\"766.846\" r=\"14\" fill=\"#ff0000\" fill-rule=\"evenodd\" fill-opacity=\"1\" stroke=\"#000000\" stroke-opacity=\"1\" stroke-width=\"3.2\"/>\n",
       "<circle clip-path=\"url(#clip092)\" cx=\"625.692\" cy=\"1038.39\" r=\"14\" fill=\"#ff0000\" fill-rule=\"evenodd\" fill-opacity=\"1\" stroke=\"#000000\" stroke-opacity=\"1\" stroke-width=\"3.2\"/>\n",
       "</svg>\n"
      ]
     },
     "execution_count": 169,
     "metadata": {},
     "output_type": "execute_result"
    }
   ],
   "source": [
    "using Plots\n",
    "p=plot()\n",
    "scatter!(points;legend=false,markercolor=:blue)\n",
    "plot!(mnog, linecolor=:green,markershape=:circle,markercolor=:red)"
   ]
  },
  {
   "cell_type": "markdown",
   "metadata": {},
   "source": [
    "Задача 3"
   ]
  },
  {
   "cell_type": "code",
   "execution_count": 170,
   "metadata": {
    "scrolled": false
   },
   "outputs": [
    {
     "data": {
      "text/plain": [
       "7-element Vector{Tuple{Float64, Float64}}:\n",
       " (1.0, 0.0)\n",
       " (0.0, 2.0)\n",
       " (3.0, 7.0)\n",
       " (5.0, 2.0)\n",
       " (4.0, -3.0)\n",
       " (2.5, 4.0)\n",
       " (1.0, 0.0)"
      ]
     },
     "execution_count": 170,
     "metadata": {},
     "output_type": "execute_result"
    }
   ],
   "source": [
    "points=[s for s in zip([1.0,0.0,3.0,5.0,4.0,2.5,1.0],[0.0,2.0,7.0,2.0,-3.0,4.0,0.0])]"
   ]
  },
  {
   "cell_type": "code",
   "execution_count": 171,
   "metadata": {},
   "outputs": [
    {
     "data": {
      "image/svg+xml": [
       "<?xml version=\"1.0\" encoding=\"utf-8\"?>\n",
       "<svg xmlns=\"http://www.w3.org/2000/svg\" xmlns:xlink=\"http://www.w3.org/1999/xlink\" width=\"600\" height=\"400\" viewBox=\"0 0 2400 1600\">\n",
       "<defs>\n",
       "  <clipPath id=\"clip130\">\n",
       "    <rect x=\"0\" y=\"0\" width=\"2400\" height=\"1600\"/>\n",
       "  </clipPath>\n",
       "</defs>\n",
       "<path clip-path=\"url(#clip130)\" d=\"\n",
       "M0 1600 L2400 1600 L2400 0 L0 0  Z\n",
       "  \" fill=\"#ffffff\" fill-rule=\"evenodd\" fill-opacity=\"1\"/>\n",
       "<defs>\n",
       "  <clipPath id=\"clip131\">\n",
       "    <rect x=\"480\" y=\"0\" width=\"1681\" height=\"1600\"/>\n",
       "  </clipPath>\n",
       "</defs>\n",
       "<path clip-path=\"url(#clip130)\" d=\"\n",
       "M147.108 1486.45 L2352.76 1486.45 L2352.76 47.2441 L147.108 47.2441  Z\n",
       "  \" fill=\"#ffffff\" fill-rule=\"evenodd\" fill-opacity=\"1\"/>\n",
       "<defs>\n",
       "  <clipPath id=\"clip132\">\n",
       "    <rect x=\"147\" y=\"47\" width=\"2207\" height=\"1440\"/>\n",
       "  </clipPath>\n",
       "</defs>\n",
       "<polyline clip-path=\"url(#clip132)\" style=\"stroke:#000000; stroke-width:2; stroke-opacity:0.1; fill:none\" points=\"\n",
       "  209.532,1486.45 209.532,47.2441 \n",
       "  \"/>\n",
       "<polyline clip-path=\"url(#clip132)\" style=\"stroke:#000000; stroke-width:2; stroke-opacity:0.1; fill:none\" points=\"\n",
       "  625.692,1486.45 625.692,47.2441 \n",
       "  \"/>\n",
       "<polyline clip-path=\"url(#clip132)\" style=\"stroke:#000000; stroke-width:2; stroke-opacity:0.1; fill:none\" points=\"\n",
       "  1041.85,1486.45 1041.85,47.2441 \n",
       "  \"/>\n",
       "<polyline clip-path=\"url(#clip132)\" style=\"stroke:#000000; stroke-width:2; stroke-opacity:0.1; fill:none\" points=\"\n",
       "  1458.01,1486.45 1458.01,47.2441 \n",
       "  \"/>\n",
       "<polyline clip-path=\"url(#clip132)\" style=\"stroke:#000000; stroke-width:2; stroke-opacity:0.1; fill:none\" points=\"\n",
       "  1874.17,1486.45 1874.17,47.2441 \n",
       "  \"/>\n",
       "<polyline clip-path=\"url(#clip132)\" style=\"stroke:#000000; stroke-width:2; stroke-opacity:0.1; fill:none\" points=\"\n",
       "  2290.33,1486.45 2290.33,47.2441 \n",
       "  \"/>\n",
       "<polyline clip-path=\"url(#clip130)\" style=\"stroke:#000000; stroke-width:4; stroke-opacity:1; fill:none\" points=\"\n",
       "  147.108,1486.45 2352.76,1486.45 \n",
       "  \"/>\n",
       "<polyline clip-path=\"url(#clip130)\" style=\"stroke:#000000; stroke-width:4; stroke-opacity:1; fill:none\" points=\"\n",
       "  209.532,1486.45 209.532,1469.18 \n",
       "  \"/>\n",
       "<polyline clip-path=\"url(#clip130)\" style=\"stroke:#000000; stroke-width:4; stroke-opacity:1; fill:none\" points=\"\n",
       "  625.692,1486.45 625.692,1469.18 \n",
       "  \"/>\n",
       "<polyline clip-path=\"url(#clip130)\" style=\"stroke:#000000; stroke-width:4; stroke-opacity:1; fill:none\" points=\"\n",
       "  1041.85,1486.45 1041.85,1469.18 \n",
       "  \"/>\n",
       "<polyline clip-path=\"url(#clip130)\" style=\"stroke:#000000; stroke-width:4; stroke-opacity:1; fill:none\" points=\"\n",
       "  1458.01,1486.45 1458.01,1469.18 \n",
       "  \"/>\n",
       "<polyline clip-path=\"url(#clip130)\" style=\"stroke:#000000; stroke-width:4; stroke-opacity:1; fill:none\" points=\"\n",
       "  1874.17,1486.45 1874.17,1469.18 \n",
       "  \"/>\n",
       "<polyline clip-path=\"url(#clip130)\" style=\"stroke:#000000; stroke-width:4; stroke-opacity:1; fill:none\" points=\"\n",
       "  2290.33,1486.45 2290.33,1469.18 \n",
       "  \"/>\n",
       "<path clip-path=\"url(#clip130)\" d=\"M 0 0 M209.532 1515.64 Q205.92 1515.64 204.092 1519.2 Q202.286 1522.75 202.286 1529.87 Q202.286 1536.98 204.092 1540.55 Q205.92 1544.09 209.532 1544.09 Q213.166 1544.09 214.971 1540.55 Q216.8 1536.98 216.8 1529.87 Q216.8 1522.75 214.971 1519.2 Q213.166 1515.64 209.532 1515.64 M209.532 1511.93 Q215.342 1511.93 218.397 1516.54 Q221.476 1521.12 221.476 1529.87 Q221.476 1538.6 218.397 1543.21 Q215.342 1547.79 209.532 1547.79 Q203.721 1547.79 200.643 1543.21 Q197.587 1538.6 197.587 1529.87 Q197.587 1521.12 200.643 1516.54 Q203.721 1511.93 209.532 1511.93 Z\" fill=\"#000000\" fill-rule=\"evenodd\" fill-opacity=\"1\" /><path clip-path=\"url(#clip130)\" d=\"M 0 0 M616.074 1543.18 L623.712 1543.18 L623.712 1516.82 L615.402 1518.49 L615.402 1514.23 L623.666 1512.56 L628.342 1512.56 L628.342 1543.18 L635.981 1543.18 L635.981 1547.12 L616.074 1547.12 L616.074 1543.18 Z\" fill=\"#000000\" fill-rule=\"evenodd\" fill-opacity=\"1\" /><path clip-path=\"url(#clip130)\" d=\"M 0 0 M1036.5 1543.18 L1052.82 1543.18 L1052.82 1547.12 L1030.88 1547.12 L1030.88 1543.18 Q1033.54 1540.43 1038.12 1535.8 Q1042.73 1531.15 1043.91 1529.81 Q1046.16 1527.28 1047.04 1525.55 Q1047.94 1523.79 1047.94 1522.1 Q1047.94 1519.34 1046 1517.61 Q1044.07 1515.87 1040.97 1515.87 Q1038.77 1515.87 1036.32 1516.63 Q1033.89 1517.4 1031.11 1518.95 L1031.11 1514.23 Q1033.94 1513.09 1036.39 1512.51 Q1038.84 1511.93 1040.88 1511.93 Q1046.25 1511.93 1049.44 1514.62 Q1052.64 1517.31 1052.64 1521.8 Q1052.64 1523.93 1051.83 1525.85 Q1051.04 1527.74 1048.93 1530.34 Q1048.36 1531.01 1045.25 1534.23 Q1042.15 1537.42 1036.5 1543.18 Z\" fill=\"#000000\" fill-rule=\"evenodd\" fill-opacity=\"1\" /><path clip-path=\"url(#clip130)\" d=\"M 0 0 M1462.26 1528.49 Q1465.62 1529.2 1467.49 1531.47 Q1469.39 1533.74 1469.39 1537.07 Q1469.39 1542.19 1465.87 1544.99 Q1462.35 1547.79 1455.87 1547.79 Q1453.69 1547.79 1451.38 1547.35 Q1449.09 1546.93 1446.63 1546.08 L1446.63 1541.56 Q1448.58 1542.7 1450.89 1543.28 Q1453.21 1543.86 1455.73 1543.86 Q1460.13 1543.86 1462.42 1542.12 Q1464.74 1540.38 1464.74 1537.07 Q1464.74 1534.02 1462.58 1532.31 Q1460.45 1530.57 1456.63 1530.57 L1452.61 1530.57 L1452.61 1526.73 L1456.82 1526.73 Q1460.27 1526.73 1462.1 1525.36 Q1463.93 1523.97 1463.93 1521.38 Q1463.93 1518.72 1462.03 1517.31 Q1460.15 1515.87 1456.63 1515.87 Q1454.71 1515.87 1452.51 1516.29 Q1450.32 1516.7 1447.68 1517.58 L1447.68 1513.42 Q1450.34 1512.68 1452.65 1512.31 Q1454.99 1511.93 1457.05 1511.93 Q1462.38 1511.93 1465.48 1514.37 Q1468.58 1516.77 1468.58 1520.89 Q1468.58 1523.76 1466.94 1525.75 Q1465.29 1527.72 1462.26 1528.49 Z\" fill=\"#000000\" fill-rule=\"evenodd\" fill-opacity=\"1\" /><path clip-path=\"url(#clip130)\" d=\"M 0 0 M1877.18 1516.63 L1865.38 1535.08 L1877.18 1535.08 L1877.18 1516.63 M1875.95 1512.56 L1881.83 1512.56 L1881.83 1535.08 L1886.76 1535.08 L1886.76 1538.97 L1881.83 1538.97 L1881.83 1547.12 L1877.18 1547.12 L1877.18 1538.97 L1861.58 1538.97 L1861.58 1534.46 L1875.95 1512.56 Z\" fill=\"#000000\" fill-rule=\"evenodd\" fill-opacity=\"1\" /><path clip-path=\"url(#clip130)\" d=\"M 0 0 M2280.61 1512.56 L2298.97 1512.56 L2298.97 1516.5 L2284.89 1516.5 L2284.89 1524.97 Q2285.91 1524.62 2286.93 1524.46 Q2287.95 1524.27 2288.97 1524.27 Q2294.75 1524.27 2298.13 1527.44 Q2301.51 1530.62 2301.51 1536.03 Q2301.51 1541.61 2298.04 1544.71 Q2294.57 1547.79 2288.25 1547.79 Q2286.07 1547.79 2283.8 1547.42 Q2281.56 1547.05 2279.15 1546.31 L2279.15 1541.61 Q2281.23 1542.74 2283.46 1543.3 Q2285.68 1543.86 2288.16 1543.86 Q2292.16 1543.86 2294.5 1541.75 Q2296.84 1539.64 2296.84 1536.03 Q2296.84 1532.42 2294.5 1530.31 Q2292.16 1528.21 2288.16 1528.21 Q2286.28 1528.21 2284.41 1528.62 Q2282.55 1529.04 2280.61 1529.92 L2280.61 1512.56 Z\" fill=\"#000000\" fill-rule=\"evenodd\" fill-opacity=\"1\" /><polyline clip-path=\"url(#clip132)\" style=\"stroke:#000000; stroke-width:2; stroke-opacity:0.1; fill:none\" points=\"\n",
       "  147.108,1309.94 2352.76,1309.94 \n",
       "  \"/>\n",
       "<polyline clip-path=\"url(#clip132)\" style=\"stroke:#000000; stroke-width:2; stroke-opacity:0.1; fill:none\" points=\"\n",
       "  147.108,1038.39 2352.76,1038.39 \n",
       "  \"/>\n",
       "<polyline clip-path=\"url(#clip132)\" style=\"stroke:#000000; stroke-width:2; stroke-opacity:0.1; fill:none\" points=\"\n",
       "  147.108,766.846 2352.76,766.846 \n",
       "  \"/>\n",
       "<polyline clip-path=\"url(#clip132)\" style=\"stroke:#000000; stroke-width:2; stroke-opacity:0.1; fill:none\" points=\"\n",
       "  147.108,495.298 2352.76,495.298 \n",
       "  \"/>\n",
       "<polyline clip-path=\"url(#clip132)\" style=\"stroke:#000000; stroke-width:2; stroke-opacity:0.1; fill:none\" points=\"\n",
       "  147.108,223.75 2352.76,223.75 \n",
       "  \"/>\n",
       "<polyline clip-path=\"url(#clip130)\" style=\"stroke:#000000; stroke-width:4; stroke-opacity:1; fill:none\" points=\"\n",
       "  147.108,1486.45 147.108,47.2441 \n",
       "  \"/>\n",
       "<polyline clip-path=\"url(#clip130)\" style=\"stroke:#000000; stroke-width:4; stroke-opacity:1; fill:none\" points=\"\n",
       "  147.108,1309.94 173.575,1309.94 \n",
       "  \"/>\n",
       "<polyline clip-path=\"url(#clip130)\" style=\"stroke:#000000; stroke-width:4; stroke-opacity:1; fill:none\" points=\"\n",
       "  147.108,1038.39 173.575,1038.39 \n",
       "  \"/>\n",
       "<polyline clip-path=\"url(#clip130)\" style=\"stroke:#000000; stroke-width:4; stroke-opacity:1; fill:none\" points=\"\n",
       "  147.108,766.846 173.575,766.846 \n",
       "  \"/>\n",
       "<polyline clip-path=\"url(#clip130)\" style=\"stroke:#000000; stroke-width:4; stroke-opacity:1; fill:none\" points=\"\n",
       "  147.108,495.298 173.575,495.298 \n",
       "  \"/>\n",
       "<polyline clip-path=\"url(#clip130)\" style=\"stroke:#000000; stroke-width:4; stroke-opacity:1; fill:none\" points=\"\n",
       "  147.108,223.75 173.575,223.75 \n",
       "  \"/>\n",
       "<path clip-path=\"url(#clip130)\" d=\"M 0 0 M50.9921 1310.39 L80.6679 1310.39 L80.6679 1314.33 L50.9921 1314.33 L50.9921 1310.39 Z\" fill=\"#000000\" fill-rule=\"evenodd\" fill-opacity=\"1\" /><path clip-path=\"url(#clip130)\" d=\"M 0 0 M94.7882 1323.29 L111.108 1323.29 L111.108 1327.22 L89.1632 1327.22 L89.1632 1323.29 Q91.8252 1320.53 96.4085 1315.9 Q101.015 1311.25 102.196 1309.91 Q104.441 1307.38 105.321 1305.65 Q106.223 1303.89 106.223 1302.2 Q106.223 1299.44 104.279 1297.71 Q102.358 1295.97 99.2558 1295.97 Q97.0567 1295.97 94.603 1296.74 Q92.1725 1297.5 89.3947 1299.05 L89.3947 1294.33 Q92.2188 1293.19 94.6724 1292.62 Q97.1261 1292.04 99.1632 1292.04 Q104.534 1292.04 107.728 1294.72 Q110.922 1297.41 110.922 1301.9 Q110.922 1304.03 110.112 1305.95 Q109.325 1307.85 107.219 1310.44 Q106.64 1311.11 103.538 1314.33 Q100.436 1317.52 94.7882 1323.29 Z\" fill=\"#000000\" fill-rule=\"evenodd\" fill-opacity=\"1\" /><path clip-path=\"url(#clip130)\" d=\"M 0 0 M99.1632 1024.19 Q95.5521 1024.19 93.7234 1027.76 Q91.9178 1031.3 91.9178 1038.43 Q91.9178 1045.54 93.7234 1049.1 Q95.5521 1052.64 99.1632 1052.64 Q102.797 1052.64 104.603 1049.1 Q106.432 1045.54 106.432 1038.43 Q106.432 1031.3 104.603 1027.76 Q102.797 1024.19 99.1632 1024.19 M99.1632 1020.49 Q104.973 1020.49 108.029 1025.1 Q111.108 1029.68 111.108 1038.43 Q111.108 1047.16 108.029 1051.76 Q104.973 1056.35 99.1632 1056.35 Q93.353 1056.35 90.2743 1051.76 Q87.2188 1047.16 87.2188 1038.43 Q87.2188 1029.68 90.2743 1025.1 Q93.353 1020.49 99.1632 1020.49 Z\" fill=\"#000000\" fill-rule=\"evenodd\" fill-opacity=\"1\" /><path clip-path=\"url(#clip130)\" d=\"M 0 0 M94.7882 780.191 L111.108 780.191 L111.108 784.126 L89.1632 784.126 L89.1632 780.191 Q91.8252 777.436 96.4085 772.807 Q101.015 768.154 102.196 766.811 Q104.441 764.288 105.321 762.552 Q106.223 760.793 106.223 759.103 Q106.223 756.348 104.279 754.612 Q102.358 752.876 99.2558 752.876 Q97.0567 752.876 94.603 753.64 Q92.1725 754.404 89.3947 755.955 L89.3947 751.233 Q92.2188 750.098 94.6724 749.52 Q97.1261 748.941 99.1632 748.941 Q104.534 748.941 107.728 751.626 Q110.922 754.311 110.922 758.802 Q110.922 760.932 110.112 762.853 Q109.325 764.751 107.219 767.344 Q106.64 768.015 103.538 771.233 Q100.436 774.427 94.7882 780.191 Z\" fill=\"#000000\" fill-rule=\"evenodd\" fill-opacity=\"1\" /><path clip-path=\"url(#clip130)\" d=\"M 0 0 M101.524 482.092 L89.7188 500.541 L101.524 500.541 L101.524 482.092 M100.297 478.018 L106.177 478.018 L106.177 500.541 L111.108 500.541 L111.108 504.43 L106.177 504.43 L106.177 512.578 L101.524 512.578 L101.524 504.43 L85.9225 504.43 L85.9225 499.916 L100.297 478.018 Z\" fill=\"#000000\" fill-rule=\"evenodd\" fill-opacity=\"1\" /><path clip-path=\"url(#clip130)\" d=\"M 0 0 M99.5798 221.887 Q96.4317 221.887 94.5799 224.04 Q92.7512 226.192 92.7512 229.942 Q92.7512 233.669 94.5799 235.845 Q96.4317 237.998 99.5798 237.998 Q102.728 237.998 104.557 235.845 Q106.408 233.669 106.408 229.942 Q106.408 226.192 104.557 224.04 Q102.728 221.887 99.5798 221.887 M108.862 207.234 L108.862 211.493 Q107.103 210.66 105.297 210.22 Q103.515 209.78 101.756 209.78 Q97.1261 209.78 94.6724 212.905 Q92.2419 216.03 91.8947 222.35 Q93.2604 220.336 95.3206 219.271 Q97.3808 218.183 99.8576 218.183 Q105.066 218.183 108.075 221.354 Q111.108 224.503 111.108 229.942 Q111.108 235.266 107.959 238.484 Q104.811 241.702 99.5798 241.702 Q93.5845 241.702 90.4132 237.118 Q87.2419 232.512 87.2419 223.785 Q87.2419 215.591 91.1308 210.729 Q95.0197 205.845 101.571 205.845 Q103.33 205.845 105.112 206.192 Q106.918 206.54 108.862 207.234 Z\" fill=\"#000000\" fill-rule=\"evenodd\" fill-opacity=\"1\" /><polyline clip-path=\"url(#clip132)\" style=\"stroke:#009af9; stroke-width:4; stroke-opacity:1; fill:none\" points=\"\n",
       "  625.692,1038.39 209.532,766.846 1458.01,87.9763 2290.33,766.846 1874.17,1445.72 1249.93,495.298 625.692,1038.39 \n",
       "  \"/>\n",
       "<path clip-path=\"url(#clip130)\" d=\"\n",
       "M1981.73 216.178 L2279.23 216.178 L2279.23 95.2176 L1981.73 95.2176  Z\n",
       "  \" fill=\"#ffffff\" fill-rule=\"evenodd\" fill-opacity=\"1\"/>\n",
       "<polyline clip-path=\"url(#clip130)\" style=\"stroke:#000000; stroke-width:4; stroke-opacity:1; fill:none\" points=\"\n",
       "  1981.73,216.178 2279.23,216.178 2279.23,95.2176 1981.73,95.2176 1981.73,216.178 \n",
       "  \"/>\n",
       "<polyline clip-path=\"url(#clip130)\" style=\"stroke:#009af9; stroke-width:4; stroke-opacity:1; fill:none\" points=\"\n",
       "  2006.24,155.698 2153.28,155.698 \n",
       "  \"/>\n",
       "<path clip-path=\"url(#clip130)\" d=\"M 0 0 M2191.63 175.385 Q2189.83 180.015 2188.11 181.427 Q2186.4 182.839 2183.53 182.839 L2180.13 182.839 L2180.13 179.274 L2182.63 179.274 Q2184.39 179.274 2185.36 178.44 Q2186.33 177.607 2187.51 174.505 L2188.28 172.561 L2177.79 147.052 L2182.3 147.052 L2190.41 167.329 L2198.51 147.052 L2203.02 147.052 L2191.63 175.385 Z\" fill=\"#000000\" fill-rule=\"evenodd\" fill-opacity=\"1\" /><path clip-path=\"url(#clip130)\" d=\"M 0 0 M2210.31 169.042 L2217.95 169.042 L2217.95 142.677 L2209.64 144.343 L2209.64 140.084 L2217.91 138.418 L2222.58 138.418 L2222.58 169.042 L2230.22 169.042 L2230.22 172.978 L2210.31 172.978 L2210.31 169.042 Z\" fill=\"#000000\" fill-rule=\"evenodd\" fill-opacity=\"1\" /></svg>\n"
      ]
     },
     "execution_count": 171,
     "metadata": {},
     "output_type": "execute_result"
    }
   ],
   "source": [
    "using Plots\n",
    "p=plot()\n",
    "plot!(points) "
   ]
  },
  {
   "cell_type": "code",
   "execution_count": 172,
   "metadata": {},
   "outputs": [
    {
     "data": {
      "text/plain": [
       "plosh_trap (generic function with 2 methods)"
      ]
     },
     "execution_count": 172,
     "metadata": {},
     "output_type": "execute_result"
    }
   ],
   "source": [
    "function plosh_trap(points)\n",
    "    s=0\n",
    "    for i in 2:length(points)\n",
    "        s=s+1/2*(points[i-1][2]+points[i][2])*(points[i][1]-points[i-1][1])\n",
    "    end\n",
    "    return s\n",
    "end"
   ]
  },
  {
   "cell_type": "code",
   "execution_count": 173,
   "metadata": {},
   "outputs": [
    {
     "data": {
      "text/plain": [
       "18.25"
      ]
     },
     "execution_count": 173,
     "metadata": {},
     "output_type": "execute_result"
    }
   ],
   "source": [
    "plosh_trap(points)"
   ]
  },
  {
   "cell_type": "markdown",
   "metadata": {},
   "source": [
    "Задача 4"
   ]
  },
  {
   "cell_type": "code",
   "execution_count": 174,
   "metadata": {
    "scrolled": false
   },
   "outputs": [
    {
     "data": {
      "text/plain": [
       "7-element Vector{Tuple{Float64, Float64}}:\n",
       " (1.0, 0.0)\n",
       " (0.0, 2.0)\n",
       " (3.0, 7.0)\n",
       " (5.0, 2.0)\n",
       " (4.0, -3.0)\n",
       " (2.5, 4.0)\n",
       " (1.0, 0.0)"
      ]
     },
     "execution_count": 174,
     "metadata": {},
     "output_type": "execute_result"
    }
   ],
   "source": [
    "points=[s for s in zip([1.0,0.0,3.0,5.0,4.0,2.5,1.0],[0.0,2.0,7.0,2.0,-3.0,4.0,0.0])]"
   ]
  },
  {
   "cell_type": "code",
   "execution_count": 175,
   "metadata": {},
   "outputs": [
    {
     "data": {
      "image/svg+xml": [
       "<?xml version=\"1.0\" encoding=\"utf-8\"?>\n",
       "<svg xmlns=\"http://www.w3.org/2000/svg\" xmlns:xlink=\"http://www.w3.org/1999/xlink\" width=\"600\" height=\"400\" viewBox=\"0 0 2400 1600\">\n",
       "<defs>\n",
       "  <clipPath id=\"clip170\">\n",
       "    <rect x=\"0\" y=\"0\" width=\"2400\" height=\"1600\"/>\n",
       "  </clipPath>\n",
       "</defs>\n",
       "<path clip-path=\"url(#clip170)\" d=\"\n",
       "M0 1600 L2400 1600 L2400 0 L0 0  Z\n",
       "  \" fill=\"#ffffff\" fill-rule=\"evenodd\" fill-opacity=\"1\"/>\n",
       "<defs>\n",
       "  <clipPath id=\"clip171\">\n",
       "    <rect x=\"480\" y=\"0\" width=\"1681\" height=\"1600\"/>\n",
       "  </clipPath>\n",
       "</defs>\n",
       "<path clip-path=\"url(#clip170)\" d=\"\n",
       "M147.108 1486.45 L2352.76 1486.45 L2352.76 47.2441 L147.108 47.2441  Z\n",
       "  \" fill=\"#ffffff\" fill-rule=\"evenodd\" fill-opacity=\"1\"/>\n",
       "<defs>\n",
       "  <clipPath id=\"clip172\">\n",
       "    <rect x=\"147\" y=\"47\" width=\"2207\" height=\"1440\"/>\n",
       "  </clipPath>\n",
       "</defs>\n",
       "<polyline clip-path=\"url(#clip172)\" style=\"stroke:#000000; stroke-width:2; stroke-opacity:0.1; fill:none\" points=\"\n",
       "  209.532,1486.45 209.532,47.2441 \n",
       "  \"/>\n",
       "<polyline clip-path=\"url(#clip172)\" style=\"stroke:#000000; stroke-width:2; stroke-opacity:0.1; fill:none\" points=\"\n",
       "  625.692,1486.45 625.692,47.2441 \n",
       "  \"/>\n",
       "<polyline clip-path=\"url(#clip172)\" style=\"stroke:#000000; stroke-width:2; stroke-opacity:0.1; fill:none\" points=\"\n",
       "  1041.85,1486.45 1041.85,47.2441 \n",
       "  \"/>\n",
       "<polyline clip-path=\"url(#clip172)\" style=\"stroke:#000000; stroke-width:2; stroke-opacity:0.1; fill:none\" points=\"\n",
       "  1458.01,1486.45 1458.01,47.2441 \n",
       "  \"/>\n",
       "<polyline clip-path=\"url(#clip172)\" style=\"stroke:#000000; stroke-width:2; stroke-opacity:0.1; fill:none\" points=\"\n",
       "  1874.17,1486.45 1874.17,47.2441 \n",
       "  \"/>\n",
       "<polyline clip-path=\"url(#clip172)\" style=\"stroke:#000000; stroke-width:2; stroke-opacity:0.1; fill:none\" points=\"\n",
       "  2290.33,1486.45 2290.33,47.2441 \n",
       "  \"/>\n",
       "<polyline clip-path=\"url(#clip170)\" style=\"stroke:#000000; stroke-width:4; stroke-opacity:1; fill:none\" points=\"\n",
       "  147.108,1486.45 2352.76,1486.45 \n",
       "  \"/>\n",
       "<polyline clip-path=\"url(#clip170)\" style=\"stroke:#000000; stroke-width:4; stroke-opacity:1; fill:none\" points=\"\n",
       "  209.532,1486.45 209.532,1469.18 \n",
       "  \"/>\n",
       "<polyline clip-path=\"url(#clip170)\" style=\"stroke:#000000; stroke-width:4; stroke-opacity:1; fill:none\" points=\"\n",
       "  625.692,1486.45 625.692,1469.18 \n",
       "  \"/>\n",
       "<polyline clip-path=\"url(#clip170)\" style=\"stroke:#000000; stroke-width:4; stroke-opacity:1; fill:none\" points=\"\n",
       "  1041.85,1486.45 1041.85,1469.18 \n",
       "  \"/>\n",
       "<polyline clip-path=\"url(#clip170)\" style=\"stroke:#000000; stroke-width:4; stroke-opacity:1; fill:none\" points=\"\n",
       "  1458.01,1486.45 1458.01,1469.18 \n",
       "  \"/>\n",
       "<polyline clip-path=\"url(#clip170)\" style=\"stroke:#000000; stroke-width:4; stroke-opacity:1; fill:none\" points=\"\n",
       "  1874.17,1486.45 1874.17,1469.18 \n",
       "  \"/>\n",
       "<polyline clip-path=\"url(#clip170)\" style=\"stroke:#000000; stroke-width:4; stroke-opacity:1; fill:none\" points=\"\n",
       "  2290.33,1486.45 2290.33,1469.18 \n",
       "  \"/>\n",
       "<path clip-path=\"url(#clip170)\" d=\"M 0 0 M209.532 1515.64 Q205.92 1515.64 204.092 1519.2 Q202.286 1522.75 202.286 1529.87 Q202.286 1536.98 204.092 1540.55 Q205.92 1544.09 209.532 1544.09 Q213.166 1544.09 214.971 1540.55 Q216.8 1536.98 216.8 1529.87 Q216.8 1522.75 214.971 1519.2 Q213.166 1515.64 209.532 1515.64 M209.532 1511.93 Q215.342 1511.93 218.397 1516.54 Q221.476 1521.12 221.476 1529.87 Q221.476 1538.6 218.397 1543.21 Q215.342 1547.79 209.532 1547.79 Q203.721 1547.79 200.643 1543.21 Q197.587 1538.6 197.587 1529.87 Q197.587 1521.12 200.643 1516.54 Q203.721 1511.93 209.532 1511.93 Z\" fill=\"#000000\" fill-rule=\"evenodd\" fill-opacity=\"1\" /><path clip-path=\"url(#clip170)\" d=\"M 0 0 M616.074 1543.18 L623.712 1543.18 L623.712 1516.82 L615.402 1518.49 L615.402 1514.23 L623.666 1512.56 L628.342 1512.56 L628.342 1543.18 L635.981 1543.18 L635.981 1547.12 L616.074 1547.12 L616.074 1543.18 Z\" fill=\"#000000\" fill-rule=\"evenodd\" fill-opacity=\"1\" /><path clip-path=\"url(#clip170)\" d=\"M 0 0 M1036.5 1543.18 L1052.82 1543.18 L1052.82 1547.12 L1030.88 1547.12 L1030.88 1543.18 Q1033.54 1540.43 1038.12 1535.8 Q1042.73 1531.15 1043.91 1529.81 Q1046.16 1527.28 1047.04 1525.55 Q1047.94 1523.79 1047.94 1522.1 Q1047.94 1519.34 1046 1517.61 Q1044.07 1515.87 1040.97 1515.87 Q1038.77 1515.87 1036.32 1516.63 Q1033.89 1517.4 1031.11 1518.95 L1031.11 1514.23 Q1033.94 1513.09 1036.39 1512.51 Q1038.84 1511.93 1040.88 1511.93 Q1046.25 1511.93 1049.44 1514.62 Q1052.64 1517.31 1052.64 1521.8 Q1052.64 1523.93 1051.83 1525.85 Q1051.04 1527.74 1048.93 1530.34 Q1048.36 1531.01 1045.25 1534.23 Q1042.15 1537.42 1036.5 1543.18 Z\" fill=\"#000000\" fill-rule=\"evenodd\" fill-opacity=\"1\" /><path clip-path=\"url(#clip170)\" d=\"M 0 0 M1462.26 1528.49 Q1465.62 1529.2 1467.49 1531.47 Q1469.39 1533.74 1469.39 1537.07 Q1469.39 1542.19 1465.87 1544.99 Q1462.35 1547.79 1455.87 1547.79 Q1453.69 1547.79 1451.38 1547.35 Q1449.09 1546.93 1446.63 1546.08 L1446.63 1541.56 Q1448.58 1542.7 1450.89 1543.28 Q1453.21 1543.86 1455.73 1543.86 Q1460.13 1543.86 1462.42 1542.12 Q1464.74 1540.38 1464.74 1537.07 Q1464.74 1534.02 1462.58 1532.31 Q1460.45 1530.57 1456.63 1530.57 L1452.61 1530.57 L1452.61 1526.73 L1456.82 1526.73 Q1460.27 1526.73 1462.1 1525.36 Q1463.93 1523.97 1463.93 1521.38 Q1463.93 1518.72 1462.03 1517.31 Q1460.15 1515.87 1456.63 1515.87 Q1454.71 1515.87 1452.51 1516.29 Q1450.32 1516.7 1447.68 1517.58 L1447.68 1513.42 Q1450.34 1512.68 1452.65 1512.31 Q1454.99 1511.93 1457.05 1511.93 Q1462.38 1511.93 1465.48 1514.37 Q1468.58 1516.77 1468.58 1520.89 Q1468.58 1523.76 1466.94 1525.75 Q1465.29 1527.72 1462.26 1528.49 Z\" fill=\"#000000\" fill-rule=\"evenodd\" fill-opacity=\"1\" /><path clip-path=\"url(#clip170)\" d=\"M 0 0 M1877.18 1516.63 L1865.38 1535.08 L1877.18 1535.08 L1877.18 1516.63 M1875.95 1512.56 L1881.83 1512.56 L1881.83 1535.08 L1886.76 1535.08 L1886.76 1538.97 L1881.83 1538.97 L1881.83 1547.12 L1877.18 1547.12 L1877.18 1538.97 L1861.58 1538.97 L1861.58 1534.46 L1875.95 1512.56 Z\" fill=\"#000000\" fill-rule=\"evenodd\" fill-opacity=\"1\" /><path clip-path=\"url(#clip170)\" d=\"M 0 0 M2280.61 1512.56 L2298.97 1512.56 L2298.97 1516.5 L2284.89 1516.5 L2284.89 1524.97 Q2285.91 1524.62 2286.93 1524.46 Q2287.95 1524.27 2288.97 1524.27 Q2294.75 1524.27 2298.13 1527.44 Q2301.51 1530.62 2301.51 1536.03 Q2301.51 1541.61 2298.04 1544.71 Q2294.57 1547.79 2288.25 1547.79 Q2286.07 1547.79 2283.8 1547.42 Q2281.56 1547.05 2279.15 1546.31 L2279.15 1541.61 Q2281.23 1542.74 2283.46 1543.3 Q2285.68 1543.86 2288.16 1543.86 Q2292.16 1543.86 2294.5 1541.75 Q2296.84 1539.64 2296.84 1536.03 Q2296.84 1532.42 2294.5 1530.31 Q2292.16 1528.21 2288.16 1528.21 Q2286.28 1528.21 2284.41 1528.62 Q2282.55 1529.04 2280.61 1529.92 L2280.61 1512.56 Z\" fill=\"#000000\" fill-rule=\"evenodd\" fill-opacity=\"1\" /><polyline clip-path=\"url(#clip172)\" style=\"stroke:#000000; stroke-width:2; stroke-opacity:0.1; fill:none\" points=\"\n",
       "  147.108,1309.94 2352.76,1309.94 \n",
       "  \"/>\n",
       "<polyline clip-path=\"url(#clip172)\" style=\"stroke:#000000; stroke-width:2; stroke-opacity:0.1; fill:none\" points=\"\n",
       "  147.108,1038.39 2352.76,1038.39 \n",
       "  \"/>\n",
       "<polyline clip-path=\"url(#clip172)\" style=\"stroke:#000000; stroke-width:2; stroke-opacity:0.1; fill:none\" points=\"\n",
       "  147.108,766.846 2352.76,766.846 \n",
       "  \"/>\n",
       "<polyline clip-path=\"url(#clip172)\" style=\"stroke:#000000; stroke-width:2; stroke-opacity:0.1; fill:none\" points=\"\n",
       "  147.108,495.298 2352.76,495.298 \n",
       "  \"/>\n",
       "<polyline clip-path=\"url(#clip172)\" style=\"stroke:#000000; stroke-width:2; stroke-opacity:0.1; fill:none\" points=\"\n",
       "  147.108,223.75 2352.76,223.75 \n",
       "  \"/>\n",
       "<polyline clip-path=\"url(#clip170)\" style=\"stroke:#000000; stroke-width:4; stroke-opacity:1; fill:none\" points=\"\n",
       "  147.108,1486.45 147.108,47.2441 \n",
       "  \"/>\n",
       "<polyline clip-path=\"url(#clip170)\" style=\"stroke:#000000; stroke-width:4; stroke-opacity:1; fill:none\" points=\"\n",
       "  147.108,1309.94 173.575,1309.94 \n",
       "  \"/>\n",
       "<polyline clip-path=\"url(#clip170)\" style=\"stroke:#000000; stroke-width:4; stroke-opacity:1; fill:none\" points=\"\n",
       "  147.108,1038.39 173.575,1038.39 \n",
       "  \"/>\n",
       "<polyline clip-path=\"url(#clip170)\" style=\"stroke:#000000; stroke-width:4; stroke-opacity:1; fill:none\" points=\"\n",
       "  147.108,766.846 173.575,766.846 \n",
       "  \"/>\n",
       "<polyline clip-path=\"url(#clip170)\" style=\"stroke:#000000; stroke-width:4; stroke-opacity:1; fill:none\" points=\"\n",
       "  147.108,495.298 173.575,495.298 \n",
       "  \"/>\n",
       "<polyline clip-path=\"url(#clip170)\" style=\"stroke:#000000; stroke-width:4; stroke-opacity:1; fill:none\" points=\"\n",
       "  147.108,223.75 173.575,223.75 \n",
       "  \"/>\n",
       "<path clip-path=\"url(#clip170)\" d=\"M 0 0 M50.9921 1310.39 L80.6679 1310.39 L80.6679 1314.33 L50.9921 1314.33 L50.9921 1310.39 Z\" fill=\"#000000\" fill-rule=\"evenodd\" fill-opacity=\"1\" /><path clip-path=\"url(#clip170)\" d=\"M 0 0 M94.7882 1323.29 L111.108 1323.29 L111.108 1327.22 L89.1632 1327.22 L89.1632 1323.29 Q91.8252 1320.53 96.4085 1315.9 Q101.015 1311.25 102.196 1309.91 Q104.441 1307.38 105.321 1305.65 Q106.223 1303.89 106.223 1302.2 Q106.223 1299.44 104.279 1297.71 Q102.358 1295.97 99.2558 1295.97 Q97.0567 1295.97 94.603 1296.74 Q92.1725 1297.5 89.3947 1299.05 L89.3947 1294.33 Q92.2188 1293.19 94.6724 1292.62 Q97.1261 1292.04 99.1632 1292.04 Q104.534 1292.04 107.728 1294.72 Q110.922 1297.41 110.922 1301.9 Q110.922 1304.03 110.112 1305.95 Q109.325 1307.85 107.219 1310.44 Q106.64 1311.11 103.538 1314.33 Q100.436 1317.52 94.7882 1323.29 Z\" fill=\"#000000\" fill-rule=\"evenodd\" fill-opacity=\"1\" /><path clip-path=\"url(#clip170)\" d=\"M 0 0 M99.1632 1024.19 Q95.5521 1024.19 93.7234 1027.76 Q91.9178 1031.3 91.9178 1038.43 Q91.9178 1045.54 93.7234 1049.1 Q95.5521 1052.64 99.1632 1052.64 Q102.797 1052.64 104.603 1049.1 Q106.432 1045.54 106.432 1038.43 Q106.432 1031.3 104.603 1027.76 Q102.797 1024.19 99.1632 1024.19 M99.1632 1020.49 Q104.973 1020.49 108.029 1025.1 Q111.108 1029.68 111.108 1038.43 Q111.108 1047.16 108.029 1051.76 Q104.973 1056.35 99.1632 1056.35 Q93.353 1056.35 90.2743 1051.76 Q87.2188 1047.16 87.2188 1038.43 Q87.2188 1029.68 90.2743 1025.1 Q93.353 1020.49 99.1632 1020.49 Z\" fill=\"#000000\" fill-rule=\"evenodd\" fill-opacity=\"1\" /><path clip-path=\"url(#clip170)\" d=\"M 0 0 M94.7882 780.191 L111.108 780.191 L111.108 784.126 L89.1632 784.126 L89.1632 780.191 Q91.8252 777.436 96.4085 772.807 Q101.015 768.154 102.196 766.811 Q104.441 764.288 105.321 762.552 Q106.223 760.793 106.223 759.103 Q106.223 756.348 104.279 754.612 Q102.358 752.876 99.2558 752.876 Q97.0567 752.876 94.603 753.64 Q92.1725 754.404 89.3947 755.955 L89.3947 751.233 Q92.2188 750.098 94.6724 749.52 Q97.1261 748.941 99.1632 748.941 Q104.534 748.941 107.728 751.626 Q110.922 754.311 110.922 758.802 Q110.922 760.932 110.112 762.853 Q109.325 764.751 107.219 767.344 Q106.64 768.015 103.538 771.233 Q100.436 774.427 94.7882 780.191 Z\" fill=\"#000000\" fill-rule=\"evenodd\" fill-opacity=\"1\" /><path clip-path=\"url(#clip170)\" d=\"M 0 0 M101.524 482.092 L89.7188 500.541 L101.524 500.541 L101.524 482.092 M100.297 478.018 L106.177 478.018 L106.177 500.541 L111.108 500.541 L111.108 504.43 L106.177 504.43 L106.177 512.578 L101.524 512.578 L101.524 504.43 L85.9225 504.43 L85.9225 499.916 L100.297 478.018 Z\" fill=\"#000000\" fill-rule=\"evenodd\" fill-opacity=\"1\" /><path clip-path=\"url(#clip170)\" d=\"M 0 0 M99.5798 221.887 Q96.4317 221.887 94.5799 224.04 Q92.7512 226.192 92.7512 229.942 Q92.7512 233.669 94.5799 235.845 Q96.4317 237.998 99.5798 237.998 Q102.728 237.998 104.557 235.845 Q106.408 233.669 106.408 229.942 Q106.408 226.192 104.557 224.04 Q102.728 221.887 99.5798 221.887 M108.862 207.234 L108.862 211.493 Q107.103 210.66 105.297 210.22 Q103.515 209.78 101.756 209.78 Q97.1261 209.78 94.6724 212.905 Q92.2419 216.03 91.8947 222.35 Q93.2604 220.336 95.3206 219.271 Q97.3808 218.183 99.8576 218.183 Q105.066 218.183 108.075 221.354 Q111.108 224.503 111.108 229.942 Q111.108 235.266 107.959 238.484 Q104.811 241.702 99.5798 241.702 Q93.5845 241.702 90.4132 237.118 Q87.2419 232.512 87.2419 223.785 Q87.2419 215.591 91.1308 210.729 Q95.0197 205.845 101.571 205.845 Q103.33 205.845 105.112 206.192 Q106.918 206.54 108.862 207.234 Z\" fill=\"#000000\" fill-rule=\"evenodd\" fill-opacity=\"1\" /><polyline clip-path=\"url(#clip172)\" style=\"stroke:#009af9; stroke-width:4; stroke-opacity:1; fill:none\" points=\"\n",
       "  625.692,1038.39 209.532,766.846 1458.01,87.9763 2290.33,766.846 1874.17,1445.72 1249.93,495.298 625.692,1038.39 \n",
       "  \"/>\n",
       "<path clip-path=\"url(#clip170)\" d=\"\n",
       "M1981.73 216.178 L2279.23 216.178 L2279.23 95.2176 L1981.73 95.2176  Z\n",
       "  \" fill=\"#ffffff\" fill-rule=\"evenodd\" fill-opacity=\"1\"/>\n",
       "<polyline clip-path=\"url(#clip170)\" style=\"stroke:#000000; stroke-width:4; stroke-opacity:1; fill:none\" points=\"\n",
       "  1981.73,216.178 2279.23,216.178 2279.23,95.2176 1981.73,95.2176 1981.73,216.178 \n",
       "  \"/>\n",
       "<polyline clip-path=\"url(#clip170)\" style=\"stroke:#009af9; stroke-width:4; stroke-opacity:1; fill:none\" points=\"\n",
       "  2006.24,155.698 2153.28,155.698 \n",
       "  \"/>\n",
       "<path clip-path=\"url(#clip170)\" d=\"M 0 0 M2191.63 175.385 Q2189.83 180.015 2188.11 181.427 Q2186.4 182.839 2183.53 182.839 L2180.13 182.839 L2180.13 179.274 L2182.63 179.274 Q2184.39 179.274 2185.36 178.44 Q2186.33 177.607 2187.51 174.505 L2188.28 172.561 L2177.79 147.052 L2182.3 147.052 L2190.41 167.329 L2198.51 147.052 L2203.02 147.052 L2191.63 175.385 Z\" fill=\"#000000\" fill-rule=\"evenodd\" fill-opacity=\"1\" /><path clip-path=\"url(#clip170)\" d=\"M 0 0 M2210.31 169.042 L2217.95 169.042 L2217.95 142.677 L2209.64 144.343 L2209.64 140.084 L2217.91 138.418 L2222.58 138.418 L2222.58 169.042 L2230.22 169.042 L2230.22 172.978 L2210.31 172.978 L2210.31 169.042 Z\" fill=\"#000000\" fill-rule=\"evenodd\" fill-opacity=\"1\" /></svg>\n"
      ]
     },
     "execution_count": 175,
     "metadata": {},
     "output_type": "execute_result"
    }
   ],
   "source": [
    "using Plots\n",
    "p=plot()\n",
    "plot!(points) "
   ]
  },
  {
   "cell_type": "code",
   "execution_count": 176,
   "metadata": {},
   "outputs": [
    {
     "data": {
      "text/plain": [
       "plosh_treug (generic function with 1 method)"
      ]
     },
     "execution_count": 176,
     "metadata": {},
     "output_type": "execute_result"
    }
   ],
   "source": [
    "function plosh_treug(points)\n",
    "    s=0\n",
    "    for i in 2:length(points)\n",
    "        s=s+1/2*(-points[i-1][1]*points[i][2]+points[i-1][2]*points[i][1])\n",
    "    end\n",
    "    return s\n",
    "end"
   ]
  },
  {
   "cell_type": "code",
   "execution_count": 177,
   "metadata": {},
   "outputs": [
    {
     "data": {
      "text/plain": [
       "18.25"
      ]
     },
     "execution_count": 177,
     "metadata": {},
     "output_type": "execute_result"
    }
   ],
   "source": [
    "plosh_treug(points)"
   ]
  },
  {
   "cell_type": "markdown",
   "metadata": {},
   "source": [
    "Обратим внимание, что в задачах 3 и 4 вывод совпал"
   ]
  }
 ],
 "metadata": {
  "kernelspec": {
   "display_name": "Julia 1.6.1",
   "language": "julia",
   "name": "julia-1.6"
  },
  "language_info": {
   "file_extension": ".jl",
   "mimetype": "application/julia",
   "name": "julia",
   "version": "1.6.1"
  }
 },
 "nbformat": 4,
 "nbformat_minor": 2
}
